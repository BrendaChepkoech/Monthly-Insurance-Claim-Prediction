{
  "nbformat": 4,
  "nbformat_minor": 0,
  "metadata": {
    "colab": {
      "name": "Monthly Insurance Claim Prediction Challenge-Zindi",
      "provenance": [],
      "collapsed_sections": [
        "kLG2VTrnTvYL",
        "XecOwPNorl2W",
        "J4wfHZwQrs-t",
        "a9BPYqunry97",
        "7KMRBJ7zr9HD",
        "zSGyg6kWsBUl",
        "iUNbvIvnT7ep",
        "OI3P3YnHUEBk",
        "ckfufNrcUHeH",
        "6XC_g-zKxe-r",
        "FlBMxEDBUc9B",
        "rF2ABPsHUtbZ",
        "vTbdjSrhVIiT",
        "lQ2G4ZPDVOXE",
        "xrmHVMVsVS--",
        "HPQviDmNtta8",
        "qjFHK1CKty7o",
        "HSsicSdvt4Zs"
      ],
      "include_colab_link": true
    },
    "kernelspec": {
      "name": "python3",
      "display_name": "Python 3"
    }
  },
  "cells": [
    {
      "cell_type": "markdown",
      "metadata": {
        "id": "view-in-github",
        "colab_type": "text"
      },
      "source": [
        "<a href=\"https://colab.research.google.com/github/BrendaChepkoech/Monthly-Insurance-Claim-Prediction/blob/main/Monthly_Insurance_Claim_Prediction_Challenge_Zindi.ipynb\" target=\"_parent\"><img src=\"https://colab.research.google.com/assets/colab-badge.svg\" alt=\"Open In Colab\"/></a>"
      ]
    },
    {
      "cell_type": "markdown",
      "metadata": {
        "id": "xMxtPsqcTsSH"
      },
      "source": [
        "# Monthly Insurance Claim Prediction Challenge"
      ]
    },
    {
      "cell_type": "markdown",
      "metadata": {
        "id": "kLG2VTrnTvYL"
      },
      "source": [
        "## 1. Defining the Question"
      ]
    },
    {
      "cell_type": "markdown",
      "metadata": {
        "id": "XecOwPNorl2W"
      },
      "source": [
        "### a) Specifying the Question"
      ]
    },
    {
      "cell_type": "markdown",
      "metadata": {
        "id": "8l3-hBO6bODP"
      },
      "source": [
        "The objective of this challenge is to create a machine learning model to predict how much a client will claim from Zimnat per month for a whole year."
      ]
    },
    {
      "cell_type": "markdown",
      "metadata": {
        "id": "J4wfHZwQrs-t"
      },
      "source": [
        "### b) Defining the Metric for Success"
      ]
    },
    {
      "cell_type": "markdown",
      "source": [
        "Create a machine learning model to predict how much a client will claim from Zimnat per month for a whole year."
      ],
      "metadata": {
        "id": "kTQ9kEydlV5f"
      }
    },
    {
      "cell_type": "markdown",
      "metadata": {
        "id": "a9BPYqunry97"
      },
      "source": [
        "### c) Understanding the context "
      ]
    },
    {
      "cell_type": "markdown",
      "source": [
        "Short-term insurance claims are one of the largest costs in the insurance industry, and are extremely difficult to forecast. Zimnat Insurance wants to predict the value of future claims per client, in order to better forecast annual costs."
      ],
      "metadata": {
        "id": "pUMGy6UkW-lb"
      }
    },
    {
      "cell_type": "markdown",
      "metadata": {
        "id": "7KMRBJ7zr9HD"
      },
      "source": [
        "### d) Recording the Experimental Design"
      ]
    },
    {
      "cell_type": "markdown",
      "source": [
        "\n",
        "* Import the relevant libraries that we will use in our analysis.\n",
        "\n",
        "* Read and explore the dataset we will use for our project.\n",
        "\n",
        "* Find and deal with outliers, anomalies, and missing data within the dataset.\n",
        "\n",
        "* Perform univariate and bivariate analysis while recording our observations.\n",
        "\n",
        "* Implement the solution\n",
        "\n",
        "* Challenge the solution by giving insights on how we can optimize the models to give us a better performance as compared to the baseline model.\n",
        "\n",
        "* Provide recommendations based on the whole analysis and modelling techniques used in the project."
      ],
      "metadata": {
        "id": "TfX3wTgTlvqY"
      }
    },
    {
      "cell_type": "markdown",
      "metadata": {
        "id": "zSGyg6kWsBUl"
      },
      "source": [
        "### e) Data Relevance"
      ]
    },
    {
      "cell_type": "code",
      "source": [
        "# We have all the variables that are needed to predict the amount of claims per year\n",
        "import pandas as pd\n",
        "data_dict= pd.read_csv('/content/DataDictionary.csv')\n",
        "data_dict"
      ],
      "metadata": {
        "colab": {
          "base_uri": "https://localhost:8080/"
        },
        "id": "gDfpnbU7rWsZ",
        "outputId": "1a1410f8-aad0-422f-b397-841b1180fc3f"
      },
      "execution_count": null,
      "outputs": [
        {
          "output_type": "execute_result",
          "data": {
            "text/plain": [
              "          Policy Data                     Unnamed: 1\n",
              "0             Columns                      Data type\n",
              "1       policy number       Unique policy identifier\n",
              "2        product code                   product code\n",
              "3          trans date     date of policy transaction\n",
              "4           from date     first date of policy cover\n",
              "5             to date      last date of policy cover\n",
              "6    agency full name                         agency\n",
              "7   class of business              class of business\n",
              "8         client type                    client type\n",
              "9   Renewal frequency       policy renewal frequency\n",
              "10             branch                         branch\n",
              "11                NaN                            NaN\n",
              "12                NaN                            NaN\n",
              "13                NaN                            NaN\n",
              "14        Claims Data                            NaN\n",
              "15       Claim Number                    Description\n",
              "16      Policy Number       Unique policy identifier\n",
              "17          Loss Date             Date of loss event\n",
              "18        Sum Insured                    Sum Insured\n",
              "19       Paid to Date           Total cost of claim.\n",
              "20              Agent  Agency (categorical variable)\n",
              "21          risk type                      Risk Type\n",
              "22  class of business              Class of business\n",
              "23            product                        Product\n",
              "24        client type                    Client Type\n",
              "25  Renewal frequency       Policy renewal frequency\n",
              "26      primary cause    Primary cause of loss event\n",
              "27    secondary cause  Secondary cause of loss event\n",
              "28             branch                         branch"
            ],
            "text/html": [
              "\n",
              "  <div id=\"df-abd3626d-17b8-4a39-abb1-87ff83be225a\">\n",
              "    <div class=\"colab-df-container\">\n",
              "      <div>\n",
              "<style scoped>\n",
              "    .dataframe tbody tr th:only-of-type {\n",
              "        vertical-align: middle;\n",
              "    }\n",
              "\n",
              "    .dataframe tbody tr th {\n",
              "        vertical-align: top;\n",
              "    }\n",
              "\n",
              "    .dataframe thead th {\n",
              "        text-align: right;\n",
              "    }\n",
              "</style>\n",
              "<table border=\"1\" class=\"dataframe\">\n",
              "  <thead>\n",
              "    <tr style=\"text-align: right;\">\n",
              "      <th></th>\n",
              "      <th>Policy Data</th>\n",
              "      <th>Unnamed: 1</th>\n",
              "    </tr>\n",
              "  </thead>\n",
              "  <tbody>\n",
              "    <tr>\n",
              "      <th>0</th>\n",
              "      <td>Columns</td>\n",
              "      <td>Data type</td>\n",
              "    </tr>\n",
              "    <tr>\n",
              "      <th>1</th>\n",
              "      <td>policy number</td>\n",
              "      <td>Unique policy identifier</td>\n",
              "    </tr>\n",
              "    <tr>\n",
              "      <th>2</th>\n",
              "      <td>product code</td>\n",
              "      <td>product code</td>\n",
              "    </tr>\n",
              "    <tr>\n",
              "      <th>3</th>\n",
              "      <td>trans date</td>\n",
              "      <td>date of policy transaction</td>\n",
              "    </tr>\n",
              "    <tr>\n",
              "      <th>4</th>\n",
              "      <td>from date</td>\n",
              "      <td>first date of policy cover</td>\n",
              "    </tr>\n",
              "    <tr>\n",
              "      <th>5</th>\n",
              "      <td>to date</td>\n",
              "      <td>last date of policy cover</td>\n",
              "    </tr>\n",
              "    <tr>\n",
              "      <th>6</th>\n",
              "      <td>agency full name</td>\n",
              "      <td>agency</td>\n",
              "    </tr>\n",
              "    <tr>\n",
              "      <th>7</th>\n",
              "      <td>class of business</td>\n",
              "      <td>class of business</td>\n",
              "    </tr>\n",
              "    <tr>\n",
              "      <th>8</th>\n",
              "      <td>client type</td>\n",
              "      <td>client type</td>\n",
              "    </tr>\n",
              "    <tr>\n",
              "      <th>9</th>\n",
              "      <td>Renewal frequency</td>\n",
              "      <td>policy renewal frequency</td>\n",
              "    </tr>\n",
              "    <tr>\n",
              "      <th>10</th>\n",
              "      <td>branch</td>\n",
              "      <td>branch</td>\n",
              "    </tr>\n",
              "    <tr>\n",
              "      <th>11</th>\n",
              "      <td>NaN</td>\n",
              "      <td>NaN</td>\n",
              "    </tr>\n",
              "    <tr>\n",
              "      <th>12</th>\n",
              "      <td>NaN</td>\n",
              "      <td>NaN</td>\n",
              "    </tr>\n",
              "    <tr>\n",
              "      <th>13</th>\n",
              "      <td>NaN</td>\n",
              "      <td>NaN</td>\n",
              "    </tr>\n",
              "    <tr>\n",
              "      <th>14</th>\n",
              "      <td>Claims Data</td>\n",
              "      <td>NaN</td>\n",
              "    </tr>\n",
              "    <tr>\n",
              "      <th>15</th>\n",
              "      <td>Claim Number</td>\n",
              "      <td>Description</td>\n",
              "    </tr>\n",
              "    <tr>\n",
              "      <th>16</th>\n",
              "      <td>Policy Number</td>\n",
              "      <td>Unique policy identifier</td>\n",
              "    </tr>\n",
              "    <tr>\n",
              "      <th>17</th>\n",
              "      <td>Loss Date</td>\n",
              "      <td>Date of loss event</td>\n",
              "    </tr>\n",
              "    <tr>\n",
              "      <th>18</th>\n",
              "      <td>Sum Insured</td>\n",
              "      <td>Sum Insured</td>\n",
              "    </tr>\n",
              "    <tr>\n",
              "      <th>19</th>\n",
              "      <td>Paid to Date</td>\n",
              "      <td>Total cost of claim.</td>\n",
              "    </tr>\n",
              "    <tr>\n",
              "      <th>20</th>\n",
              "      <td>Agent</td>\n",
              "      <td>Agency (categorical variable)</td>\n",
              "    </tr>\n",
              "    <tr>\n",
              "      <th>21</th>\n",
              "      <td>risk type</td>\n",
              "      <td>Risk Type</td>\n",
              "    </tr>\n",
              "    <tr>\n",
              "      <th>22</th>\n",
              "      <td>class of business</td>\n",
              "      <td>Class of business</td>\n",
              "    </tr>\n",
              "    <tr>\n",
              "      <th>23</th>\n",
              "      <td>product</td>\n",
              "      <td>Product</td>\n",
              "    </tr>\n",
              "    <tr>\n",
              "      <th>24</th>\n",
              "      <td>client type</td>\n",
              "      <td>Client Type</td>\n",
              "    </tr>\n",
              "    <tr>\n",
              "      <th>25</th>\n",
              "      <td>Renewal frequency</td>\n",
              "      <td>Policy renewal frequency</td>\n",
              "    </tr>\n",
              "    <tr>\n",
              "      <th>26</th>\n",
              "      <td>primary cause</td>\n",
              "      <td>Primary cause of loss event</td>\n",
              "    </tr>\n",
              "    <tr>\n",
              "      <th>27</th>\n",
              "      <td>secondary cause</td>\n",
              "      <td>Secondary cause of loss event</td>\n",
              "    </tr>\n",
              "    <tr>\n",
              "      <th>28</th>\n",
              "      <td>branch</td>\n",
              "      <td>branch</td>\n",
              "    </tr>\n",
              "  </tbody>\n",
              "</table>\n",
              "</div>\n",
              "      <button class=\"colab-df-convert\" onclick=\"convertToInteractive('df-abd3626d-17b8-4a39-abb1-87ff83be225a')\"\n",
              "              title=\"Convert this dataframe to an interactive table.\"\n",
              "              style=\"display:none;\">\n",
              "        \n",
              "  <svg xmlns=\"http://www.w3.org/2000/svg\" height=\"24px\"viewBox=\"0 0 24 24\"\n",
              "       width=\"24px\">\n",
              "    <path d=\"M0 0h24v24H0V0z\" fill=\"none\"/>\n",
              "    <path d=\"M18.56 5.44l.94 2.06.94-2.06 2.06-.94-2.06-.94-.94-2.06-.94 2.06-2.06.94zm-11 1L8.5 8.5l.94-2.06 2.06-.94-2.06-.94L8.5 2.5l-.94 2.06-2.06.94zm10 10l.94 2.06.94-2.06 2.06-.94-2.06-.94-.94-2.06-.94 2.06-2.06.94z\"/><path d=\"M17.41 7.96l-1.37-1.37c-.4-.4-.92-.59-1.43-.59-.52 0-1.04.2-1.43.59L10.3 9.45l-7.72 7.72c-.78.78-.78 2.05 0 2.83L4 21.41c.39.39.9.59 1.41.59.51 0 1.02-.2 1.41-.59l7.78-7.78 2.81-2.81c.8-.78.8-2.07 0-2.86zM5.41 20L4 18.59l7.72-7.72 1.47 1.35L5.41 20z\"/>\n",
              "  </svg>\n",
              "      </button>\n",
              "      \n",
              "  <style>\n",
              "    .colab-df-container {\n",
              "      display:flex;\n",
              "      flex-wrap:wrap;\n",
              "      gap: 12px;\n",
              "    }\n",
              "\n",
              "    .colab-df-convert {\n",
              "      background-color: #E8F0FE;\n",
              "      border: none;\n",
              "      border-radius: 50%;\n",
              "      cursor: pointer;\n",
              "      display: none;\n",
              "      fill: #1967D2;\n",
              "      height: 32px;\n",
              "      padding: 0 0 0 0;\n",
              "      width: 32px;\n",
              "    }\n",
              "\n",
              "    .colab-df-convert:hover {\n",
              "      background-color: #E2EBFA;\n",
              "      box-shadow: 0px 1px 2px rgba(60, 64, 67, 0.3), 0px 1px 3px 1px rgba(60, 64, 67, 0.15);\n",
              "      fill: #174EA6;\n",
              "    }\n",
              "\n",
              "    [theme=dark] .colab-df-convert {\n",
              "      background-color: #3B4455;\n",
              "      fill: #D2E3FC;\n",
              "    }\n",
              "\n",
              "    [theme=dark] .colab-df-convert:hover {\n",
              "      background-color: #434B5C;\n",
              "      box-shadow: 0px 1px 3px 1px rgba(0, 0, 0, 0.15);\n",
              "      filter: drop-shadow(0px 1px 2px rgba(0, 0, 0, 0.3));\n",
              "      fill: #FFFFFF;\n",
              "    }\n",
              "  </style>\n",
              "\n",
              "      <script>\n",
              "        const buttonEl =\n",
              "          document.querySelector('#df-abd3626d-17b8-4a39-abb1-87ff83be225a button.colab-df-convert');\n",
              "        buttonEl.style.display =\n",
              "          google.colab.kernel.accessAllowed ? 'block' : 'none';\n",
              "\n",
              "        async function convertToInteractive(key) {\n",
              "          const element = document.querySelector('#df-abd3626d-17b8-4a39-abb1-87ff83be225a');\n",
              "          const dataTable =\n",
              "            await google.colab.kernel.invokeFunction('convertToInteractive',\n",
              "                                                     [key], {});\n",
              "          if (!dataTable) return;\n",
              "\n",
              "          const docLinkHtml = 'Like what you see? Visit the ' +\n",
              "            '<a target=\"_blank\" href=https://colab.research.google.com/notebooks/data_table.ipynb>data table notebook</a>'\n",
              "            + ' to learn more about interactive tables.';\n",
              "          element.innerHTML = '';\n",
              "          dataTable['output_type'] = 'display_data';\n",
              "          await google.colab.output.renderOutput(dataTable, element);\n",
              "          const docLink = document.createElement('div');\n",
              "          docLink.innerHTML = docLinkHtml;\n",
              "          element.appendChild(docLink);\n",
              "        }\n",
              "      </script>\n",
              "    </div>\n",
              "  </div>\n",
              "  "
            ]
          },
          "metadata": {},
          "execution_count": 65
        }
      ]
    },
    {
      "cell_type": "markdown",
      "metadata": {
        "id": "iUNbvIvnT7ep"
      },
      "source": [
        "## 2. Reading the Data"
      ]
    },
    {
      "cell_type": "code",
      "metadata": {
        "id": "VImu55XdrH-s"
      },
      "source": [
        "# Loading libraries\n",
        "import numpy as np\n",
        "import pandas as pd\n",
        "import seaborn as sns\n",
        "import matplotlib.pyplot as plt\n",
        "\n",
        "from sklearn import linear_model, datasets\n",
        "from sklearn.model_selection import GridSearchCV\n",
        "from sklearn.model_selection import train_test_split\n",
        "from sklearn.linear_model import LinearRegression\n",
        "from sklearn.metrics import accuracy_score\n",
        "from sklearn import metrics\n",
        "from sklearn.preprocessing import StandardScaler\n",
        "from sklearn.preprocessing import LabelEncoder\n",
        "import warnings\n",
        "warnings.filterwarnings(action='ignore')"
      ],
      "execution_count": null,
      "outputs": []
    },
    {
      "cell_type": "code",
      "metadata": {
        "id": "XJn2KjW-WMlG"
      },
      "source": [
        "# Loading the Dataset\n",
        "train=pd.read_csv('/content/train.csv')\n",
        "test=pd.read_csv('/content/test.csv')\n",
        "policy=pd.read_csv('/content/policies.csv')\n",
        "sample_sub= pd.read_csv('/content/SampleSubmission.csv')\n",
        "data_dict= pd.read_csv('/content/DataDictionary.csv')"
      ],
      "execution_count": null,
      "outputs": []
    },
    {
      "cell_type": "markdown",
      "metadata": {
        "id": "OI3P3YnHUEBk"
      },
      "source": [
        "## 3. Checking the Data"
      ]
    },
    {
      "cell_type": "code",
      "metadata": {
        "id": "YjSVNwgptHxY",
        "colab": {
          "base_uri": "https://localhost:8080/"
        },
        "outputId": "1fa47f3b-3a93-4bab-cc4c-5a35ed686ae0"
      },
      "source": [
        "# Determining the no. of records in our dataset\n",
        "#\n",
        "train.shape"
      ],
      "execution_count": null,
      "outputs": [
        {
          "output_type": "execute_result",
          "data": {
            "text/plain": [
              "(9376, 15)"
            ]
          },
          "metadata": {},
          "execution_count": 68
        }
      ]
    },
    {
      "cell_type": "code",
      "source": [
        "#test shape\n",
        "test.shape"
      ],
      "metadata": {
        "colab": {
          "base_uri": "https://localhost:8080/"
        },
        "id": "YcFCtaRNeiws",
        "outputId": "39245abe-15cd-49f5-8004-4b3a51c1743d"
      },
      "execution_count": null,
      "outputs": [
        {
          "output_type": "execute_result",
          "data": {
            "text/plain": [
              "(4019, 14)"
            ]
          },
          "metadata": {},
          "execution_count": 69
        }
      ]
    },
    {
      "cell_type": "code",
      "metadata": {
        "id": "xHhTw5eKWr0n",
        "colab": {
          "base_uri": "https://localhost:8080/",
          "height": 357
        },
        "outputId": "f47ceb0a-6bd2-48e5-f0ac-d785e26eeb5d"
      },
      "source": [
        "# Previewing the top of our dataset\n",
        "#\n",
        "train.head()"
      ],
      "execution_count": null,
      "outputs": [
        {
          "output_type": "execute_result",
          "data": {
            "text/plain": [
              "          claim_id policy_number  claim_number  sum_insured    product  \\\n",
              "0  ID_JZ7QWRHH57RO  pol000009680  claim0011359     300000.0  prod00027   \n",
              "1  ID_KQ5TJMVLJ4EP  pol000006869  claim0005272      16000.0  prod00005   \n",
              "2  ID_NYHI7WJGGIAE  pol000006135  claim0004147       3000.0  prod00029   \n",
              "3  ID_ROMMDCXYUXN5  pol000008991  claim0009962       6000.0  prod00005   \n",
              "4  ID_2OTD9NX8L73D  pol000007768  claim0007346      26850.0  prod00015   \n",
              "\n",
              "     agent class_of_business risk_type   loss_date client_type  \\\n",
              "0  ag00068          cob00031   rt00006  2021-05-13      ct0003   \n",
              "1  ag00226          cob00010   rt00032  2018-05-13      ct0003   \n",
              "2  ag00037          cob00010   rt00026  2018-08-18      ct0003   \n",
              "3  ag00037          cob00009   rt00032  2018-12-20      ct0003   \n",
              "4  ag00226          cob00034   rt00023  2018-11-07      ct0001   \n",
              "\n",
              "  renewal_frequency primary_cause secondary_cause   branch    target  \n",
              "0            rf0001        pc0007         sc00022  br00006  82150.00  \n",
              "1            rf0001        pc0007         sc00023  br00002   3780.24  \n",
              "2            rf0001        pc0007         sc00024  br00002   2196.50  \n",
              "3            rf0001        pc0007         sc00021  br00001    105.67  \n",
              "4            rf0001        pc0007         sc00021  br00001   1605.64  "
            ],
            "text/html": [
              "\n",
              "  <div id=\"df-aefd4c47-bf80-45c9-aafb-034edb28bad4\">\n",
              "    <div class=\"colab-df-container\">\n",
              "      <div>\n",
              "<style scoped>\n",
              "    .dataframe tbody tr th:only-of-type {\n",
              "        vertical-align: middle;\n",
              "    }\n",
              "\n",
              "    .dataframe tbody tr th {\n",
              "        vertical-align: top;\n",
              "    }\n",
              "\n",
              "    .dataframe thead th {\n",
              "        text-align: right;\n",
              "    }\n",
              "</style>\n",
              "<table border=\"1\" class=\"dataframe\">\n",
              "  <thead>\n",
              "    <tr style=\"text-align: right;\">\n",
              "      <th></th>\n",
              "      <th>claim_id</th>\n",
              "      <th>policy_number</th>\n",
              "      <th>claim_number</th>\n",
              "      <th>sum_insured</th>\n",
              "      <th>product</th>\n",
              "      <th>agent</th>\n",
              "      <th>class_of_business</th>\n",
              "      <th>risk_type</th>\n",
              "      <th>loss_date</th>\n",
              "      <th>client_type</th>\n",
              "      <th>renewal_frequency</th>\n",
              "      <th>primary_cause</th>\n",
              "      <th>secondary_cause</th>\n",
              "      <th>branch</th>\n",
              "      <th>target</th>\n",
              "    </tr>\n",
              "  </thead>\n",
              "  <tbody>\n",
              "    <tr>\n",
              "      <th>0</th>\n",
              "      <td>ID_JZ7QWRHH57RO</td>\n",
              "      <td>pol000009680</td>\n",
              "      <td>claim0011359</td>\n",
              "      <td>300000.0</td>\n",
              "      <td>prod00027</td>\n",
              "      <td>ag00068</td>\n",
              "      <td>cob00031</td>\n",
              "      <td>rt00006</td>\n",
              "      <td>2021-05-13</td>\n",
              "      <td>ct0003</td>\n",
              "      <td>rf0001</td>\n",
              "      <td>pc0007</td>\n",
              "      <td>sc00022</td>\n",
              "      <td>br00006</td>\n",
              "      <td>82150.00</td>\n",
              "    </tr>\n",
              "    <tr>\n",
              "      <th>1</th>\n",
              "      <td>ID_KQ5TJMVLJ4EP</td>\n",
              "      <td>pol000006869</td>\n",
              "      <td>claim0005272</td>\n",
              "      <td>16000.0</td>\n",
              "      <td>prod00005</td>\n",
              "      <td>ag00226</td>\n",
              "      <td>cob00010</td>\n",
              "      <td>rt00032</td>\n",
              "      <td>2018-05-13</td>\n",
              "      <td>ct0003</td>\n",
              "      <td>rf0001</td>\n",
              "      <td>pc0007</td>\n",
              "      <td>sc00023</td>\n",
              "      <td>br00002</td>\n",
              "      <td>3780.24</td>\n",
              "    </tr>\n",
              "    <tr>\n",
              "      <th>2</th>\n",
              "      <td>ID_NYHI7WJGGIAE</td>\n",
              "      <td>pol000006135</td>\n",
              "      <td>claim0004147</td>\n",
              "      <td>3000.0</td>\n",
              "      <td>prod00029</td>\n",
              "      <td>ag00037</td>\n",
              "      <td>cob00010</td>\n",
              "      <td>rt00026</td>\n",
              "      <td>2018-08-18</td>\n",
              "      <td>ct0003</td>\n",
              "      <td>rf0001</td>\n",
              "      <td>pc0007</td>\n",
              "      <td>sc00024</td>\n",
              "      <td>br00002</td>\n",
              "      <td>2196.50</td>\n",
              "    </tr>\n",
              "    <tr>\n",
              "      <th>3</th>\n",
              "      <td>ID_ROMMDCXYUXN5</td>\n",
              "      <td>pol000008991</td>\n",
              "      <td>claim0009962</td>\n",
              "      <td>6000.0</td>\n",
              "      <td>prod00005</td>\n",
              "      <td>ag00037</td>\n",
              "      <td>cob00009</td>\n",
              "      <td>rt00032</td>\n",
              "      <td>2018-12-20</td>\n",
              "      <td>ct0003</td>\n",
              "      <td>rf0001</td>\n",
              "      <td>pc0007</td>\n",
              "      <td>sc00021</td>\n",
              "      <td>br00001</td>\n",
              "      <td>105.67</td>\n",
              "    </tr>\n",
              "    <tr>\n",
              "      <th>4</th>\n",
              "      <td>ID_2OTD9NX8L73D</td>\n",
              "      <td>pol000007768</td>\n",
              "      <td>claim0007346</td>\n",
              "      <td>26850.0</td>\n",
              "      <td>prod00015</td>\n",
              "      <td>ag00226</td>\n",
              "      <td>cob00034</td>\n",
              "      <td>rt00023</td>\n",
              "      <td>2018-11-07</td>\n",
              "      <td>ct0001</td>\n",
              "      <td>rf0001</td>\n",
              "      <td>pc0007</td>\n",
              "      <td>sc00021</td>\n",
              "      <td>br00001</td>\n",
              "      <td>1605.64</td>\n",
              "    </tr>\n",
              "  </tbody>\n",
              "</table>\n",
              "</div>\n",
              "      <button class=\"colab-df-convert\" onclick=\"convertToInteractive('df-aefd4c47-bf80-45c9-aafb-034edb28bad4')\"\n",
              "              title=\"Convert this dataframe to an interactive table.\"\n",
              "              style=\"display:none;\">\n",
              "        \n",
              "  <svg xmlns=\"http://www.w3.org/2000/svg\" height=\"24px\"viewBox=\"0 0 24 24\"\n",
              "       width=\"24px\">\n",
              "    <path d=\"M0 0h24v24H0V0z\" fill=\"none\"/>\n",
              "    <path d=\"M18.56 5.44l.94 2.06.94-2.06 2.06-.94-2.06-.94-.94-2.06-.94 2.06-2.06.94zm-11 1L8.5 8.5l.94-2.06 2.06-.94-2.06-.94L8.5 2.5l-.94 2.06-2.06.94zm10 10l.94 2.06.94-2.06 2.06-.94-2.06-.94-.94-2.06-.94 2.06-2.06.94z\"/><path d=\"M17.41 7.96l-1.37-1.37c-.4-.4-.92-.59-1.43-.59-.52 0-1.04.2-1.43.59L10.3 9.45l-7.72 7.72c-.78.78-.78 2.05 0 2.83L4 21.41c.39.39.9.59 1.41.59.51 0 1.02-.2 1.41-.59l7.78-7.78 2.81-2.81c.8-.78.8-2.07 0-2.86zM5.41 20L4 18.59l7.72-7.72 1.47 1.35L5.41 20z\"/>\n",
              "  </svg>\n",
              "      </button>\n",
              "      \n",
              "  <style>\n",
              "    .colab-df-container {\n",
              "      display:flex;\n",
              "      flex-wrap:wrap;\n",
              "      gap: 12px;\n",
              "    }\n",
              "\n",
              "    .colab-df-convert {\n",
              "      background-color: #E8F0FE;\n",
              "      border: none;\n",
              "      border-radius: 50%;\n",
              "      cursor: pointer;\n",
              "      display: none;\n",
              "      fill: #1967D2;\n",
              "      height: 32px;\n",
              "      padding: 0 0 0 0;\n",
              "      width: 32px;\n",
              "    }\n",
              "\n",
              "    .colab-df-convert:hover {\n",
              "      background-color: #E2EBFA;\n",
              "      box-shadow: 0px 1px 2px rgba(60, 64, 67, 0.3), 0px 1px 3px 1px rgba(60, 64, 67, 0.15);\n",
              "      fill: #174EA6;\n",
              "    }\n",
              "\n",
              "    [theme=dark] .colab-df-convert {\n",
              "      background-color: #3B4455;\n",
              "      fill: #D2E3FC;\n",
              "    }\n",
              "\n",
              "    [theme=dark] .colab-df-convert:hover {\n",
              "      background-color: #434B5C;\n",
              "      box-shadow: 0px 1px 3px 1px rgba(0, 0, 0, 0.15);\n",
              "      filter: drop-shadow(0px 1px 2px rgba(0, 0, 0, 0.3));\n",
              "      fill: #FFFFFF;\n",
              "    }\n",
              "  </style>\n",
              "\n",
              "      <script>\n",
              "        const buttonEl =\n",
              "          document.querySelector('#df-aefd4c47-bf80-45c9-aafb-034edb28bad4 button.colab-df-convert');\n",
              "        buttonEl.style.display =\n",
              "          google.colab.kernel.accessAllowed ? 'block' : 'none';\n",
              "\n",
              "        async function convertToInteractive(key) {\n",
              "          const element = document.querySelector('#df-aefd4c47-bf80-45c9-aafb-034edb28bad4');\n",
              "          const dataTable =\n",
              "            await google.colab.kernel.invokeFunction('convertToInteractive',\n",
              "                                                     [key], {});\n",
              "          if (!dataTable) return;\n",
              "\n",
              "          const docLinkHtml = 'Like what you see? Visit the ' +\n",
              "            '<a target=\"_blank\" href=https://colab.research.google.com/notebooks/data_table.ipynb>data table notebook</a>'\n",
              "            + ' to learn more about interactive tables.';\n",
              "          element.innerHTML = '';\n",
              "          dataTable['output_type'] = 'display_data';\n",
              "          await google.colab.output.renderOutput(dataTable, element);\n",
              "          const docLink = document.createElement('div');\n",
              "          docLink.innerHTML = docLinkHtml;\n",
              "          element.appendChild(docLink);\n",
              "        }\n",
              "      </script>\n",
              "    </div>\n",
              "  </div>\n",
              "  "
            ]
          },
          "metadata": {},
          "execution_count": 70
        }
      ]
    },
    {
      "cell_type": "code",
      "metadata": {
        "id": "e9AzGcZFrIIr",
        "colab": {
          "base_uri": "https://localhost:8080/",
          "height": 357
        },
        "outputId": "7404afd1-4a5c-4950-b069-5cefda1be55b"
      },
      "source": [
        "# Previewing the bottom of our dataset\n",
        "# \n",
        "train.tail()"
      ],
      "execution_count": null,
      "outputs": [
        {
          "output_type": "execute_result",
          "data": {
            "text/plain": [
              "             claim_id policy_number  claim_number  sum_insured    product  \\\n",
              "9371  ID_A5ETUPPQDFLS  pol000006054  claim0003743      42000.0  prod00015   \n",
              "9372  ID_Z3OGUWI7T2GC  pol000006715  claim0005088       6800.0  prod00005   \n",
              "9373  ID_GSJDAJCABSBZ  pol000008236  claim0008976       5000.0  prod00005   \n",
              "9374  ID_8B7YNBEKXHJW  pol000006847  claim0005250       6000.0  prod00005   \n",
              "9375  ID_8OB2QWUC664M  pol000007450  claim0006249      10000.0  prod00027   \n",
              "\n",
              "        agent class_of_business risk_type   loss_date client_type  \\\n",
              "9371  ag00037          cob00034   rt00023  2019-09-02      ct0001   \n",
              "9372  ag00064          cob00009   rt00032  2018-05-12      ct0003   \n",
              "9373  ag00064          cob00009   rt00032  2018-07-28      ct0003   \n",
              "9374  ag00037          cob00009   rt00032  2018-08-16      ct0003   \n",
              "9375  ag00226          cob00010   rt00006  2019-09-07      ct0003   \n",
              "\n",
              "     renewal_frequency primary_cause secondary_cause   branch   target  \n",
              "9371            rf0002        pc0007         sc00021  br00002   205.68  \n",
              "9372            rf0002        pc0007         sc00021  br00002  1133.32  \n",
              "9373            rf0001        pc0007         sc00029  br00001  2176.00  \n",
              "9374            rf0001        pc0007         sc00022  br00002   851.40  \n",
              "9375            rf0002        pc0007         sc00023  br00001  1410.00  "
            ],
            "text/html": [
              "\n",
              "  <div id=\"df-c3ccaa4b-0d22-4911-a3b7-d920bd85b86b\">\n",
              "    <div class=\"colab-df-container\">\n",
              "      <div>\n",
              "<style scoped>\n",
              "    .dataframe tbody tr th:only-of-type {\n",
              "        vertical-align: middle;\n",
              "    }\n",
              "\n",
              "    .dataframe tbody tr th {\n",
              "        vertical-align: top;\n",
              "    }\n",
              "\n",
              "    .dataframe thead th {\n",
              "        text-align: right;\n",
              "    }\n",
              "</style>\n",
              "<table border=\"1\" class=\"dataframe\">\n",
              "  <thead>\n",
              "    <tr style=\"text-align: right;\">\n",
              "      <th></th>\n",
              "      <th>claim_id</th>\n",
              "      <th>policy_number</th>\n",
              "      <th>claim_number</th>\n",
              "      <th>sum_insured</th>\n",
              "      <th>product</th>\n",
              "      <th>agent</th>\n",
              "      <th>class_of_business</th>\n",
              "      <th>risk_type</th>\n",
              "      <th>loss_date</th>\n",
              "      <th>client_type</th>\n",
              "      <th>renewal_frequency</th>\n",
              "      <th>primary_cause</th>\n",
              "      <th>secondary_cause</th>\n",
              "      <th>branch</th>\n",
              "      <th>target</th>\n",
              "    </tr>\n",
              "  </thead>\n",
              "  <tbody>\n",
              "    <tr>\n",
              "      <th>9371</th>\n",
              "      <td>ID_A5ETUPPQDFLS</td>\n",
              "      <td>pol000006054</td>\n",
              "      <td>claim0003743</td>\n",
              "      <td>42000.0</td>\n",
              "      <td>prod00015</td>\n",
              "      <td>ag00037</td>\n",
              "      <td>cob00034</td>\n",
              "      <td>rt00023</td>\n",
              "      <td>2019-09-02</td>\n",
              "      <td>ct0001</td>\n",
              "      <td>rf0002</td>\n",
              "      <td>pc0007</td>\n",
              "      <td>sc00021</td>\n",
              "      <td>br00002</td>\n",
              "      <td>205.68</td>\n",
              "    </tr>\n",
              "    <tr>\n",
              "      <th>9372</th>\n",
              "      <td>ID_Z3OGUWI7T2GC</td>\n",
              "      <td>pol000006715</td>\n",
              "      <td>claim0005088</td>\n",
              "      <td>6800.0</td>\n",
              "      <td>prod00005</td>\n",
              "      <td>ag00064</td>\n",
              "      <td>cob00009</td>\n",
              "      <td>rt00032</td>\n",
              "      <td>2018-05-12</td>\n",
              "      <td>ct0003</td>\n",
              "      <td>rf0002</td>\n",
              "      <td>pc0007</td>\n",
              "      <td>sc00021</td>\n",
              "      <td>br00002</td>\n",
              "      <td>1133.32</td>\n",
              "    </tr>\n",
              "    <tr>\n",
              "      <th>9373</th>\n",
              "      <td>ID_GSJDAJCABSBZ</td>\n",
              "      <td>pol000008236</td>\n",
              "      <td>claim0008976</td>\n",
              "      <td>5000.0</td>\n",
              "      <td>prod00005</td>\n",
              "      <td>ag00064</td>\n",
              "      <td>cob00009</td>\n",
              "      <td>rt00032</td>\n",
              "      <td>2018-07-28</td>\n",
              "      <td>ct0003</td>\n",
              "      <td>rf0001</td>\n",
              "      <td>pc0007</td>\n",
              "      <td>sc00029</td>\n",
              "      <td>br00001</td>\n",
              "      <td>2176.00</td>\n",
              "    </tr>\n",
              "    <tr>\n",
              "      <th>9374</th>\n",
              "      <td>ID_8B7YNBEKXHJW</td>\n",
              "      <td>pol000006847</td>\n",
              "      <td>claim0005250</td>\n",
              "      <td>6000.0</td>\n",
              "      <td>prod00005</td>\n",
              "      <td>ag00037</td>\n",
              "      <td>cob00009</td>\n",
              "      <td>rt00032</td>\n",
              "      <td>2018-08-16</td>\n",
              "      <td>ct0003</td>\n",
              "      <td>rf0001</td>\n",
              "      <td>pc0007</td>\n",
              "      <td>sc00022</td>\n",
              "      <td>br00002</td>\n",
              "      <td>851.40</td>\n",
              "    </tr>\n",
              "    <tr>\n",
              "      <th>9375</th>\n",
              "      <td>ID_8OB2QWUC664M</td>\n",
              "      <td>pol000007450</td>\n",
              "      <td>claim0006249</td>\n",
              "      <td>10000.0</td>\n",
              "      <td>prod00027</td>\n",
              "      <td>ag00226</td>\n",
              "      <td>cob00010</td>\n",
              "      <td>rt00006</td>\n",
              "      <td>2019-09-07</td>\n",
              "      <td>ct0003</td>\n",
              "      <td>rf0002</td>\n",
              "      <td>pc0007</td>\n",
              "      <td>sc00023</td>\n",
              "      <td>br00001</td>\n",
              "      <td>1410.00</td>\n",
              "    </tr>\n",
              "  </tbody>\n",
              "</table>\n",
              "</div>\n",
              "      <button class=\"colab-df-convert\" onclick=\"convertToInteractive('df-c3ccaa4b-0d22-4911-a3b7-d920bd85b86b')\"\n",
              "              title=\"Convert this dataframe to an interactive table.\"\n",
              "              style=\"display:none;\">\n",
              "        \n",
              "  <svg xmlns=\"http://www.w3.org/2000/svg\" height=\"24px\"viewBox=\"0 0 24 24\"\n",
              "       width=\"24px\">\n",
              "    <path d=\"M0 0h24v24H0V0z\" fill=\"none\"/>\n",
              "    <path d=\"M18.56 5.44l.94 2.06.94-2.06 2.06-.94-2.06-.94-.94-2.06-.94 2.06-2.06.94zm-11 1L8.5 8.5l.94-2.06 2.06-.94-2.06-.94L8.5 2.5l-.94 2.06-2.06.94zm10 10l.94 2.06.94-2.06 2.06-.94-2.06-.94-.94-2.06-.94 2.06-2.06.94z\"/><path d=\"M17.41 7.96l-1.37-1.37c-.4-.4-.92-.59-1.43-.59-.52 0-1.04.2-1.43.59L10.3 9.45l-7.72 7.72c-.78.78-.78 2.05 0 2.83L4 21.41c.39.39.9.59 1.41.59.51 0 1.02-.2 1.41-.59l7.78-7.78 2.81-2.81c.8-.78.8-2.07 0-2.86zM5.41 20L4 18.59l7.72-7.72 1.47 1.35L5.41 20z\"/>\n",
              "  </svg>\n",
              "      </button>\n",
              "      \n",
              "  <style>\n",
              "    .colab-df-container {\n",
              "      display:flex;\n",
              "      flex-wrap:wrap;\n",
              "      gap: 12px;\n",
              "    }\n",
              "\n",
              "    .colab-df-convert {\n",
              "      background-color: #E8F0FE;\n",
              "      border: none;\n",
              "      border-radius: 50%;\n",
              "      cursor: pointer;\n",
              "      display: none;\n",
              "      fill: #1967D2;\n",
              "      height: 32px;\n",
              "      padding: 0 0 0 0;\n",
              "      width: 32px;\n",
              "    }\n",
              "\n",
              "    .colab-df-convert:hover {\n",
              "      background-color: #E2EBFA;\n",
              "      box-shadow: 0px 1px 2px rgba(60, 64, 67, 0.3), 0px 1px 3px 1px rgba(60, 64, 67, 0.15);\n",
              "      fill: #174EA6;\n",
              "    }\n",
              "\n",
              "    [theme=dark] .colab-df-convert {\n",
              "      background-color: #3B4455;\n",
              "      fill: #D2E3FC;\n",
              "    }\n",
              "\n",
              "    [theme=dark] .colab-df-convert:hover {\n",
              "      background-color: #434B5C;\n",
              "      box-shadow: 0px 1px 3px 1px rgba(0, 0, 0, 0.15);\n",
              "      filter: drop-shadow(0px 1px 2px rgba(0, 0, 0, 0.3));\n",
              "      fill: #FFFFFF;\n",
              "    }\n",
              "  </style>\n",
              "\n",
              "      <script>\n",
              "        const buttonEl =\n",
              "          document.querySelector('#df-c3ccaa4b-0d22-4911-a3b7-d920bd85b86b button.colab-df-convert');\n",
              "        buttonEl.style.display =\n",
              "          google.colab.kernel.accessAllowed ? 'block' : 'none';\n",
              "\n",
              "        async function convertToInteractive(key) {\n",
              "          const element = document.querySelector('#df-c3ccaa4b-0d22-4911-a3b7-d920bd85b86b');\n",
              "          const dataTable =\n",
              "            await google.colab.kernel.invokeFunction('convertToInteractive',\n",
              "                                                     [key], {});\n",
              "          if (!dataTable) return;\n",
              "\n",
              "          const docLinkHtml = 'Like what you see? Visit the ' +\n",
              "            '<a target=\"_blank\" href=https://colab.research.google.com/notebooks/data_table.ipynb>data table notebook</a>'\n",
              "            + ' to learn more about interactive tables.';\n",
              "          element.innerHTML = '';\n",
              "          dataTable['output_type'] = 'display_data';\n",
              "          await google.colab.output.renderOutput(dataTable, element);\n",
              "          const docLink = document.createElement('div');\n",
              "          docLink.innerHTML = docLinkHtml;\n",
              "          element.appendChild(docLink);\n",
              "        }\n",
              "      </script>\n",
              "    </div>\n",
              "  </div>\n",
              "  "
            ]
          },
          "metadata": {},
          "execution_count": 71
        }
      ]
    },
    {
      "cell_type": "code",
      "metadata": {
        "id": "n8-dW4sQWzbc",
        "colab": {
          "base_uri": "https://localhost:8080/"
        },
        "outputId": "27d409bb-0030-40ae-9528-b1f0ba0d3c6e"
      },
      "source": [
        "# Checking whether each column has an appropriate datatype\n",
        "#\n",
        "train.dtypes"
      ],
      "execution_count": null,
      "outputs": [
        {
          "output_type": "execute_result",
          "data": {
            "text/plain": [
              "claim_id              object\n",
              "policy_number         object\n",
              "claim_number          object\n",
              "sum_insured          float64\n",
              "product               object\n",
              "agent                 object\n",
              "class_of_business     object\n",
              "risk_type             object\n",
              "loss_date             object\n",
              "client_type           object\n",
              "renewal_frequency     object\n",
              "primary_cause         object\n",
              "secondary_cause       object\n",
              "branch                object\n",
              "target               float64\n",
              "dtype: object"
            ]
          },
          "metadata": {},
          "execution_count": 72
        }
      ]
    },
    {
      "cell_type": "markdown",
      "metadata": {
        "id": "FlBMxEDBUc9B"
      },
      "source": [
        "## 5. Tidying the Dataset"
      ]
    },
    {
      "cell_type": "code",
      "metadata": {
        "id": "5o_bQcT5W3Wz",
        "colab": {
          "base_uri": "https://localhost:8080/",
          "height": 419
        },
        "outputId": "4844ce6b-a54c-4e0e-a5ca-4483dc402f81"
      },
      "source": [
        "# Checking for Outliers\n",
        "#\n",
        "col_names = ['sum_insured', 'target']\n",
        "\n",
        "\n",
        "fig, axes = plt.subplots(nrows=1,ncols=2,figsize=(18,7))\n",
        "plt.suptitle('Checking for outliers using boxplots',fontsize=20,weight='bold',color='black')\n",
        "for ax, data, column in zip(axes.flatten(),train,col_names):\n",
        "  sns.boxplot(train[column],ax=ax)\n",
        "  \n",
        "  "
      ],
      "execution_count": null,
      "outputs": [
        {
          "output_type": "display_data",
          "data": {
            "text/plain": [
              "<Figure size 1296x504 with 2 Axes>"
            ],
            "image/png": "[encoded data removed]"
          },
          "metadata": {}
        }
      ]
    },
    {
      "cell_type": "markdown",
      "source": [
        "We have outliers in our dataset but we shall normalize our dataset so as to reduce the variance between the values."
      ],
      "metadata": {
        "id": "YDvBWKC53Pv7"
      }
    },
    {
      "cell_type": "code",
      "metadata": {
        "id": "PWlukLKUvFQN"
      },
      "source": [
        "# Checking for Anomalies\n",
        "#"
      ],
      "execution_count": null,
      "outputs": []
    },
    {
      "cell_type": "code",
      "metadata": {
        "id": "PvCYb6dgW4yh",
        "colab": {
          "base_uri": "https://localhost:8080/"
        },
        "outputId": "689a9496-464e-4897-dbd2-cbf54fb0f423"
      },
      "source": [
        "# Identifying the Missing Data\n",
        "#\n",
        "train.isnull().sum()"
      ],
      "execution_count": null,
      "outputs": [
        {
          "output_type": "execute_result",
          "data": {
            "text/plain": [
              "claim_id              0\n",
              "policy_number        86\n",
              "claim_number          0\n",
              "sum_insured           0\n",
              "product               0\n",
              "agent                 0\n",
              "class_of_business     0\n",
              "risk_type             0\n",
              "loss_date             0\n",
              "client_type           0\n",
              "renewal_frequency     0\n",
              "primary_cause         0\n",
              "secondary_cause       0\n",
              "branch                0\n",
              "target                0\n",
              "dtype: int64"
            ]
          },
          "metadata": {},
          "execution_count": 75
        }
      ]
    },
    {
      "cell_type": "code",
      "source": [
        "# Identifying the Missing Data as a percentage of the main dataset\n",
        "#\n",
        "(train.isnull().sum()/train.shape[0])*100"
      ],
      "metadata": {
        "colab": {
          "base_uri": "https://localhost:8080/"
        },
        "id": "drMtzr6SywyN",
        "outputId": "80ece3d8-5870-4352-8393-42ba63bea9cd"
      },
      "execution_count": null,
      "outputs": [
        {
          "output_type": "execute_result",
          "data": {
            "text/plain": [
              "claim_id             0.000000\n",
              "policy_number        0.917235\n",
              "claim_number         0.000000\n",
              "sum_insured          0.000000\n",
              "product              0.000000\n",
              "agent                0.000000\n",
              "class_of_business    0.000000\n",
              "risk_type            0.000000\n",
              "loss_date            0.000000\n",
              "client_type          0.000000\n",
              "renewal_frequency    0.000000\n",
              "primary_cause        0.000000\n",
              "secondary_cause      0.000000\n",
              "branch               0.000000\n",
              "target               0.000000\n",
              "dtype: float64"
            ]
          },
          "metadata": {},
          "execution_count": 76
        }
      ]
    },
    {
      "cell_type": "code",
      "metadata": {
        "id": "MpsDGKZHsf_W",
        "colab": {
          "base_uri": "https://localhost:8080/"
        },
        "outputId": "dc1ac94d-6cc0-463a-9922-1df591c7f743"
      },
      "source": [
        "# Dealing with the Missing Data\n",
        "#Since most of our missing values are categorical we shall fill missing values using mode\n",
        "\n",
        "train['policy_number'] = train['policy_number'].fillna(train['policy_number'].mode()[0])\n",
        "#confirming if there are null values\n",
        "train.isnull().sum()"
      ],
      "execution_count": null,
      "outputs": [
        {
          "output_type": "execute_result",
          "data": {
            "text/plain": [
              "claim_id             0\n",
              "policy_number        0\n",
              "claim_number         0\n",
              "sum_insured          0\n",
              "product              0\n",
              "agent                0\n",
              "class_of_business    0\n",
              "risk_type            0\n",
              "loss_date            0\n",
              "client_type          0\n",
              "renewal_frequency    0\n",
              "primary_cause        0\n",
              "secondary_cause      0\n",
              "branch               0\n",
              "target               0\n",
              "dtype: int64"
            ]
          },
          "metadata": {},
          "execution_count": 77
        }
      ]
    },
    {
      "cell_type": "code",
      "source": [
        "# Dealing with the Missing Data\n",
        "#Since most of our missing values are categorical we shall fill missing values using mode\n",
        "\n",
        "test['policy_number'] = test['policy_number'].fillna(test['policy_number'].mode()[0])\n",
        "#confirming if there are null values\n",
        "test.isnull().sum()"
      ],
      "metadata": {
        "colab": {
          "base_uri": "https://localhost:8080/"
        },
        "id": "1mWxsrfz0F3p",
        "outputId": "2d2eede8-ebf1-4401-8489-4f3523644450"
      },
      "execution_count": null,
      "outputs": [
        {
          "output_type": "execute_result",
          "data": {
            "text/plain": [
              "claim_id             0\n",
              "policy_number        0\n",
              "claim_number         0\n",
              "sum_insured          0\n",
              "product              0\n",
              "agent                0\n",
              "class_of_business    0\n",
              "risk_type            0\n",
              "loss_date            0\n",
              "client_type          0\n",
              "renewal_frequency    0\n",
              "primary_cause        0\n",
              "secondary_cause      0\n",
              "branch               0\n",
              "dtype: int64"
            ]
          },
          "metadata": {},
          "execution_count": 78
        }
      ]
    },
    {
      "cell_type": "code",
      "source": [
        "#Checking for duplicates\n",
        "train.duplicated().sum()"
      ],
      "metadata": {
        "colab": {
          "base_uri": "https://localhost:8080/"
        },
        "id": "uU_7e3C7fZRN",
        "outputId": "10cf2a60-ebce-4f20-f6f1-f318727412dd"
      },
      "execution_count": null,
      "outputs": [
        {
          "output_type": "execute_result",
          "data": {
            "text/plain": [
              "0"
            ]
          },
          "metadata": {},
          "execution_count": 79
        }
      ]
    },
    {
      "cell_type": "code",
      "metadata": {
        "id": "D-4I__6Os4C5",
        "colab": {
          "base_uri": "https://localhost:8080/"
        },
        "outputId": "3a4b2804-8701-4a79-c2f2-b7e079c67e21"
      },
      "source": [
        "# More data cleaning procedures\n",
        "#Changing data types on train column\n",
        "train['loss_date'] = pd.to_datetime(train['loss_date'])\n",
        "train.dtypes"
      ],
      "execution_count": null,
      "outputs": [
        {
          "output_type": "execute_result",
          "data": {
            "text/plain": [
              "claim_id                     object\n",
              "policy_number                object\n",
              "claim_number                 object\n",
              "sum_insured                 float64\n",
              "product                      object\n",
              "agent                        object\n",
              "class_of_business            object\n",
              "risk_type                    object\n",
              "loss_date            datetime64[ns]\n",
              "client_type                  object\n",
              "renewal_frequency            object\n",
              "primary_cause                object\n",
              "secondary_cause              object\n",
              "branch                       object\n",
              "target                      float64\n",
              "dtype: object"
            ]
          },
          "metadata": {},
          "execution_count": 80
        }
      ]
    },
    {
      "cell_type": "code",
      "source": [
        "#Changing data types on test column\n",
        "test['loss_date'] = pd.to_datetime(test['loss_date'])\n",
        "test.dtypes"
      ],
      "metadata": {
        "colab": {
          "base_uri": "https://localhost:8080/"
        },
        "id": "XE81wA0U2c39",
        "outputId": "37eecfca-cfeb-4722-fe2e-ef4adcddfba1"
      },
      "execution_count": null,
      "outputs": [
        {
          "output_type": "execute_result",
          "data": {
            "text/plain": [
              "claim_id                     object\n",
              "policy_number                object\n",
              "claim_number                 object\n",
              "sum_insured                 float64\n",
              "product                      object\n",
              "agent                        object\n",
              "class_of_business            object\n",
              "risk_type                    object\n",
              "loss_date            datetime64[ns]\n",
              "client_type                  object\n",
              "renewal_frequency            object\n",
              "primary_cause                object\n",
              "secondary_cause              object\n",
              "branch                       object\n",
              "dtype: object"
            ]
          },
          "metadata": {},
          "execution_count": 81
        }
      ]
    },
    {
      "cell_type": "markdown",
      "metadata": {
        "id": "rF2ABPsHUtbZ"
      },
      "source": [
        "## 6. Exploratory Analysis"
      ]
    },
    {
      "cell_type": "code",
      "source": [
        "num_cols=train[['sum_insured', 'target']]"
      ],
      "metadata": {
        "id": "DzHFYUF0MqCh"
      },
      "execution_count": null,
      "outputs": []
    },
    {
      "cell_type": "code",
      "source": [
        "num_cols.describe()"
      ],
      "metadata": {
        "colab": {
          "base_uri": "https://localhost:8080/"
        },
        "id": "-GfJ55OhM0o6",
        "outputId": "af590d06-ac6e-473c-e411-2e5b311dbdf6"
      },
      "execution_count": null,
      "outputs": [
        {
          "output_type": "execute_result",
          "data": {
            "text/plain": [
              "        sum_insured        target\n",
              "count  9.376000e+03  9.376000e+03\n",
              "mean   8.534790e+06  4.146471e+04\n",
              "std    1.125565e+08  2.084347e+05\n",
              "min    0.000000e+00  0.000000e+00\n",
              "25%    6.500000e+03  2.879250e+02\n",
              "50%    5.054200e+04  1.956925e+03\n",
              "75%    4.200000e+05  1.270064e+04\n",
              "max    5.211868e+09  7.868591e+06"
            ],
            "text/html": [
              "\n",
              "  <div id=\"df-7668a271-3a71-4606-9552-e911caa774f6\">\n",
              "    <div class=\"colab-df-container\">\n",
              "      <div>\n",
              "<style scoped>\n",
              "    .dataframe tbody tr th:only-of-type {\n",
              "        vertical-align: middle;\n",
              "    }\n",
              "\n",
              "    .dataframe tbody tr th {\n",
              "        vertical-align: top;\n",
              "    }\n",
              "\n",
              "    .dataframe thead th {\n",
              "        text-align: right;\n",
              "    }\n",
              "</style>\n",
              "<table border=\"1\" class=\"dataframe\">\n",
              "  <thead>\n",
              "    <tr style=\"text-align: right;\">\n",
              "      <th></th>\n",
              "      <th>sum_insured</th>\n",
              "      <th>target</th>\n",
              "    </tr>\n",
              "  </thead>\n",
              "  <tbody>\n",
              "    <tr>\n",
              "      <th>count</th>\n",
              "      <td>9.376000e+03</td>\n",
              "      <td>9.376000e+03</td>\n",
              "    </tr>\n",
              "    <tr>\n",
              "      <th>mean</th>\n",
              "      <td>8.534790e+06</td>\n",
              "      <td>4.146471e+04</td>\n",
              "    </tr>\n",
              "    <tr>\n",
              "      <th>std</th>\n",
              "      <td>1.125565e+08</td>\n",
              "      <td>2.084347e+05</td>\n",
              "    </tr>\n",
              "    <tr>\n",
              "      <th>min</th>\n",
              "      <td>0.000000e+00</td>\n",
              "      <td>0.000000e+00</td>\n",
              "    </tr>\n",
              "    <tr>\n",
              "      <th>25%</th>\n",
              "      <td>6.500000e+03</td>\n",
              "      <td>2.879250e+02</td>\n",
              "    </tr>\n",
              "    <tr>\n",
              "      <th>50%</th>\n",
              "      <td>5.054200e+04</td>\n",
              "      <td>1.956925e+03</td>\n",
              "    </tr>\n",
              "    <tr>\n",
              "      <th>75%</th>\n",
              "      <td>4.200000e+05</td>\n",
              "      <td>1.270064e+04</td>\n",
              "    </tr>\n",
              "    <tr>\n",
              "      <th>max</th>\n",
              "      <td>5.211868e+09</td>\n",
              "      <td>7.868591e+06</td>\n",
              "    </tr>\n",
              "  </tbody>\n",
              "</table>\n",
              "</div>\n",
              "      <button class=\"colab-df-convert\" onclick=\"convertToInteractive('df-7668a271-3a71-4606-9552-e911caa774f6')\"\n",
              "              title=\"Convert this dataframe to an interactive table.\"\n",
              "              style=\"display:none;\">\n",
              "        \n",
              "  <svg xmlns=\"http://www.w3.org/2000/svg\" height=\"24px\"viewBox=\"0 0 24 24\"\n",
              "       width=\"24px\">\n",
              "    <path d=\"M0 0h24v24H0V0z\" fill=\"none\"/>\n",
              "    <path d=\"M18.56 5.44l.94 2.06.94-2.06 2.06-.94-2.06-.94-.94-2.06-.94 2.06-2.06.94zm-11 1L8.5 8.5l.94-2.06 2.06-.94-2.06-.94L8.5 2.5l-.94 2.06-2.06.94zm10 10l.94 2.06.94-2.06 2.06-.94-2.06-.94-.94-2.06-.94 2.06-2.06.94z\"/><path d=\"M17.41 7.96l-1.37-1.37c-.4-.4-.92-.59-1.43-.59-.52 0-1.04.2-1.43.59L10.3 9.45l-7.72 7.72c-.78.78-.78 2.05 0 2.83L4 21.41c.39.39.9.59 1.41.59.51 0 1.02-.2 1.41-.59l7.78-7.78 2.81-2.81c.8-.78.8-2.07 0-2.86zM5.41 20L4 18.59l7.72-7.72 1.47 1.35L5.41 20z\"/>\n",
              "  </svg>\n",
              "      </button>\n",
              "      \n",
              "  <style>\n",
              "    .colab-df-container {\n",
              "      display:flex;\n",
              "      flex-wrap:wrap;\n",
              "      gap: 12px;\n",
              "    }\n",
              "\n",
              "    .colab-df-convert {\n",
              "      background-color: #E8F0FE;\n",
              "      border: none;\n",
              "      border-radius: 50%;\n",
              "      cursor: pointer;\n",
              "      display: none;\n",
              "      fill: #1967D2;\n",
              "      height: 32px;\n",
              "      padding: 0 0 0 0;\n",
              "      width: 32px;\n",
              "    }\n",
              "\n",
              "    .colab-df-convert:hover {\n",
              "      background-color: #E2EBFA;\n",
              "      box-shadow: 0px 1px 2px rgba(60, 64, 67, 0.3), 0px 1px 3px 1px rgba(60, 64, 67, 0.15);\n",
              "      fill: #174EA6;\n",
              "    }\n",
              "\n",
              "    [theme=dark] .colab-df-convert {\n",
              "      background-color: #3B4455;\n",
              "      fill: #D2E3FC;\n",
              "    }\n",
              "\n",
              "    [theme=dark] .colab-df-convert:hover {\n",
              "      background-color: #434B5C;\n",
              "      box-shadow: 0px 1px 3px 1px rgba(0, 0, 0, 0.15);\n",
              "      filter: drop-shadow(0px 1px 2px rgba(0, 0, 0, 0.3));\n",
              "      fill: #FFFFFF;\n",
              "    }\n",
              "  </style>\n",
              "\n",
              "      <script>\n",
              "        const buttonEl =\n",
              "          document.querySelector('#df-7668a271-3a71-4606-9552-e911caa774f6 button.colab-df-convert');\n",
              "        buttonEl.style.display =\n",
              "          google.colab.kernel.accessAllowed ? 'block' : 'none';\n",
              "\n",
              "        async function convertToInteractive(key) {\n",
              "          const element = document.querySelector('#df-7668a271-3a71-4606-9552-e911caa774f6');\n",
              "          const dataTable =\n",
              "            await google.colab.kernel.invokeFunction('convertToInteractive',\n",
              "                                                     [key], {});\n",
              "          if (!dataTable) return;\n",
              "\n",
              "          const docLinkHtml = 'Like what you see? Visit the ' +\n",
              "            '<a target=\"_blank\" href=https://colab.research.google.com/notebooks/data_table.ipynb>data table notebook</a>'\n",
              "            + ' to learn more about interactive tables.';\n",
              "          element.innerHTML = '';\n",
              "          dataTable['output_type'] = 'display_data';\n",
              "          await google.colab.output.renderOutput(dataTable, element);\n",
              "          const docLink = document.createElement('div');\n",
              "          docLink.innerHTML = docLinkHtml;\n",
              "          element.appendChild(docLink);\n",
              "        }\n",
              "      </script>\n",
              "    </div>\n",
              "  </div>\n",
              "  "
            ]
          },
          "metadata": {},
          "execution_count": 83
        }
      ]
    },
    {
      "cell_type": "code",
      "source": [
        "num_cols.kurt()"
      ],
      "metadata": {
        "colab": {
          "base_uri": "https://localhost:8080/"
        },
        "id": "4OiwhAWHM9M9",
        "outputId": "7b6c4356-89d5-49c0-94d0-9bf0443b5bd4"
      },
      "execution_count": null,
      "outputs": [
        {
          "output_type": "execute_result",
          "data": {
            "text/plain": [
              "sum_insured    991.394908\n",
              "target         435.967074\n",
              "dtype: float64"
            ]
          },
          "metadata": {},
          "execution_count": 84
        }
      ]
    },
    {
      "cell_type": "code",
      "source": [
        "num_cols.skew()"
      ],
      "metadata": {
        "colab": {
          "base_uri": "https://localhost:8080/"
        },
        "id": "StD_gPZ6NEOI",
        "outputId": "f24c57eb-02ef-4c58-8a8a-f277232cc45e"
      },
      "execution_count": null,
      "outputs": [
        {
          "output_type": "execute_result",
          "data": {
            "text/plain": [
              "sum_insured    27.531764\n",
              "target         17.015541\n",
              "dtype: float64"
            ]
          },
          "metadata": {},
          "execution_count": 85
        }
      ]
    },
    {
      "cell_type": "markdown",
      "source": [
        "Both target and sum insured are positively skewed"
      ],
      "metadata": {
        "id": "erSESyKCNLVm"
      }
    },
    {
      "cell_type": "code",
      "source": [
        "train.columns"
      ],
      "metadata": {
        "colab": {
          "base_uri": "https://localhost:8080/"
        },
        "id": "BZeh7uSSWcdC",
        "outputId": "e3d3f391-f4e2-4b39-8b5c-2cab1e4c9557"
      },
      "execution_count": null,
      "outputs": [
        {
          "output_type": "execute_result",
          "data": {
            "text/plain": [
              "Index(['claim_id', 'policy_number', 'claim_number', 'sum_insured', 'product',\n",
              "       'agent', 'class_of_business', 'risk_type', 'loss_date', 'client_type',\n",
              "       'renewal_frequency', 'primary_cause', 'secondary_cause', 'branch',\n",
              "       'target'],\n",
              "      dtype='object')"
            ]
          },
          "metadata": {},
          "execution_count": 86
        }
      ]
    },
    {
      "cell_type": "code",
      "source": [
        "# Convert categorical variables to categorical objects\n",
        "cat_cols = train.columns.difference(['claim_id', 'loss_date', 'sum_insured', 'target']).astype(\"category\")\n",
        "\n",
        "# Preview categorical variables\n",
        "train[cat_cols].head()"
      ],
      "metadata": {
        "id": "A3bJ-qVINIzu",
        "colab": {
          "base_uri": "https://localhost:8080/"
        },
        "outputId": "1763038a-eecf-4a8b-a9c0-5b901181725e"
      },
      "execution_count": null,
      "outputs": [
        {
          "output_type": "execute_result",
          "data": {
            "text/plain": [
              "     agent   branch  claim_number class_of_business client_type policy_number  \\\n",
              "0  ag00068  br00006  claim0011359          cob00031      ct0003  pol000009680   \n",
              "1  ag00226  br00002  claim0005272          cob00010      ct0003  pol000006869   \n",
              "2  ag00037  br00002  claim0004147          cob00010      ct0003  pol000006135   \n",
              "3  ag00037  br00001  claim0009962          cob00009      ct0003  pol000008991   \n",
              "4  ag00226  br00001  claim0007346          cob00034      ct0001  pol000007768   \n",
              "\n",
              "  primary_cause    product renewal_frequency risk_type secondary_cause  \n",
              "0        pc0007  prod00027            rf0001   rt00006         sc00022  \n",
              "1        pc0007  prod00005            rf0001   rt00032         sc00023  \n",
              "2        pc0007  prod00029            rf0001   rt00026         sc00024  \n",
              "3        pc0007  prod00005            rf0001   rt00032         sc00021  \n",
              "4        pc0007  prod00015            rf0001   rt00023         sc00021  "
            ],
            "text/html": [
              "\n",
              "  <div id=\"df-b6d2866a-a264-47ad-bc5e-d8b1b4abd797\">\n",
              "    <div class=\"colab-df-container\">\n",
              "      <div>\n",
              "<style scoped>\n",
              "    .dataframe tbody tr th:only-of-type {\n",
              "        vertical-align: middle;\n",
              "    }\n",
              "\n",
              "    .dataframe tbody tr th {\n",
              "        vertical-align: top;\n",
              "    }\n",
              "\n",
              "    .dataframe thead th {\n",
              "        text-align: right;\n",
              "    }\n",
              "</style>\n",
              "<table border=\"1\" class=\"dataframe\">\n",
              "  <thead>\n",
              "    <tr style=\"text-align: right;\">\n",
              "      <th></th>\n",
              "      <th>agent</th>\n",
              "      <th>branch</th>\n",
              "      <th>claim_number</th>\n",
              "      <th>class_of_business</th>\n",
              "      <th>client_type</th>\n",
              "      <th>policy_number</th>\n",
              "      <th>primary_cause</th>\n",
              "      <th>product</th>\n",
              "      <th>renewal_frequency</th>\n",
              "      <th>risk_type</th>\n",
              "      <th>secondary_cause</th>\n",
              "    </tr>\n",
              "  </thead>\n",
              "  <tbody>\n",
              "    <tr>\n",
              "      <th>0</th>\n",
              "      <td>ag00068</td>\n",
              "      <td>br00006</td>\n",
              "      <td>claim0011359</td>\n",
              "      <td>cob00031</td>\n",
              "      <td>ct0003</td>\n",
              "      <td>pol000009680</td>\n",
              "      <td>pc0007</td>\n",
              "      <td>prod00027</td>\n",
              "      <td>rf0001</td>\n",
              "      <td>rt00006</td>\n",
              "      <td>sc00022</td>\n",
              "    </tr>\n",
              "    <tr>\n",
              "      <th>1</th>\n",
              "      <td>ag00226</td>\n",
              "      <td>br00002</td>\n",
              "      <td>claim0005272</td>\n",
              "      <td>cob00010</td>\n",
              "      <td>ct0003</td>\n",
              "      <td>pol000006869</td>\n",
              "      <td>pc0007</td>\n",
              "      <td>prod00005</td>\n",
              "      <td>rf0001</td>\n",
              "      <td>rt00032</td>\n",
              "      <td>sc00023</td>\n",
              "    </tr>\n",
              "    <tr>\n",
              "      <th>2</th>\n",
              "      <td>ag00037</td>\n",
              "      <td>br00002</td>\n",
              "      <td>claim0004147</td>\n",
              "      <td>cob00010</td>\n",
              "      <td>ct0003</td>\n",
              "      <td>pol000006135</td>\n",
              "      <td>pc0007</td>\n",
              "      <td>prod00029</td>\n",
              "      <td>rf0001</td>\n",
              "      <td>rt00026</td>\n",
              "      <td>sc00024</td>\n",
              "    </tr>\n",
              "    <tr>\n",
              "      <th>3</th>\n",
              "      <td>ag00037</td>\n",
              "      <td>br00001</td>\n",
              "      <td>claim0009962</td>\n",
              "      <td>cob00009</td>\n",
              "      <td>ct0003</td>\n",
              "      <td>pol000008991</td>\n",
              "      <td>pc0007</td>\n",
              "      <td>prod00005</td>\n",
              "      <td>rf0001</td>\n",
              "      <td>rt00032</td>\n",
              "      <td>sc00021</td>\n",
              "    </tr>\n",
              "    <tr>\n",
              "      <th>4</th>\n",
              "      <td>ag00226</td>\n",
              "      <td>br00001</td>\n",
              "      <td>claim0007346</td>\n",
              "      <td>cob00034</td>\n",
              "      <td>ct0001</td>\n",
              "      <td>pol000007768</td>\n",
              "      <td>pc0007</td>\n",
              "      <td>prod00015</td>\n",
              "      <td>rf0001</td>\n",
              "      <td>rt00023</td>\n",
              "      <td>sc00021</td>\n",
              "    </tr>\n",
              "  </tbody>\n",
              "</table>\n",
              "</div>\n",
              "      <button class=\"colab-df-convert\" onclick=\"convertToInteractive('df-b6d2866a-a264-47ad-bc5e-d8b1b4abd797')\"\n",
              "              title=\"Convert this dataframe to an interactive table.\"\n",
              "              style=\"display:none;\">\n",
              "        \n",
              "  <svg xmlns=\"http://www.w3.org/2000/svg\" height=\"24px\"viewBox=\"0 0 24 24\"\n",
              "       width=\"24px\">\n",
              "    <path d=\"M0 0h24v24H0V0z\" fill=\"none\"/>\n",
              "    <path d=\"M18.56 5.44l.94 2.06.94-2.06 2.06-.94-2.06-.94-.94-2.06-.94 2.06-2.06.94zm-11 1L8.5 8.5l.94-2.06 2.06-.94-2.06-.94L8.5 2.5l-.94 2.06-2.06.94zm10 10l.94 2.06.94-2.06 2.06-.94-2.06-.94-.94-2.06-.94 2.06-2.06.94z\"/><path d=\"M17.41 7.96l-1.37-1.37c-.4-.4-.92-.59-1.43-.59-.52 0-1.04.2-1.43.59L10.3 9.45l-7.72 7.72c-.78.78-.78 2.05 0 2.83L4 21.41c.39.39.9.59 1.41.59.51 0 1.02-.2 1.41-.59l7.78-7.78 2.81-2.81c.8-.78.8-2.07 0-2.86zM5.41 20L4 18.59l7.72-7.72 1.47 1.35L5.41 20z\"/>\n",
              "  </svg>\n",
              "      </button>\n",
              "      \n",
              "  <style>\n",
              "    .colab-df-container {\n",
              "      display:flex;\n",
              "      flex-wrap:wrap;\n",
              "      gap: 12px;\n",
              "    }\n",
              "\n",
              "    .colab-df-convert {\n",
              "      background-color: #E8F0FE;\n",
              "      border: none;\n",
              "      border-radius: 50%;\n",
              "      cursor: pointer;\n",
              "      display: none;\n",
              "      fill: #1967D2;\n",
              "      height: 32px;\n",
              "      padding: 0 0 0 0;\n",
              "      width: 32px;\n",
              "    }\n",
              "\n",
              "    .colab-df-convert:hover {\n",
              "      background-color: #E2EBFA;\n",
              "      box-shadow: 0px 1px 2px rgba(60, 64, 67, 0.3), 0px 1px 3px 1px rgba(60, 64, 67, 0.15);\n",
              "      fill: #174EA6;\n",
              "    }\n",
              "\n",
              "    [theme=dark] .colab-df-convert {\n",
              "      background-color: #3B4455;\n",
              "      fill: #D2E3FC;\n",
              "    }\n",
              "\n",
              "    [theme=dark] .colab-df-convert:hover {\n",
              "      background-color: #434B5C;\n",
              "      box-shadow: 0px 1px 3px 1px rgba(0, 0, 0, 0.15);\n",
              "      filter: drop-shadow(0px 1px 2px rgba(0, 0, 0, 0.3));\n",
              "      fill: #FFFFFF;\n",
              "    }\n",
              "  </style>\n",
              "\n",
              "      <script>\n",
              "        const buttonEl =\n",
              "          document.querySelector('#df-b6d2866a-a264-47ad-bc5e-d8b1b4abd797 button.colab-df-convert');\n",
              "        buttonEl.style.display =\n",
              "          google.colab.kernel.accessAllowed ? 'block' : 'none';\n",
              "\n",
              "        async function convertToInteractive(key) {\n",
              "          const element = document.querySelector('#df-b6d2866a-a264-47ad-bc5e-d8b1b4abd797');\n",
              "          const dataTable =\n",
              "            await google.colab.kernel.invokeFunction('convertToInteractive',\n",
              "                                                     [key], {});\n",
              "          if (!dataTable) return;\n",
              "\n",
              "          const docLinkHtml = 'Like what you see? Visit the ' +\n",
              "            '<a target=\"_blank\" href=https://colab.research.google.com/notebooks/data_table.ipynb>data table notebook</a>'\n",
              "            + ' to learn more about interactive tables.';\n",
              "          element.innerHTML = '';\n",
              "          dataTable['output_type'] = 'display_data';\n",
              "          await google.colab.output.renderOutput(dataTable, element);\n",
              "          const docLink = document.createElement('div');\n",
              "          docLink.innerHTML = docLinkHtml;\n",
              "          element.appendChild(docLink);\n",
              "        }\n",
              "      </script>\n",
              "    </div>\n",
              "  </div>\n",
              "  "
            ]
          },
          "metadata": {},
          "execution_count": 87
        }
      ]
    },
    {
      "cell_type": "code",
      "source": [
        "# Fill in missing values in categorical variables with the most common\n",
        "#train[cat_cols] = train[cat_cols].apply(lambda x: x.fillna(x.value_counts().index[0]))\n",
        "\n",
        "# Convert\n",
        "for col in cat_cols:\n",
        "  train[col] = train[col].astype('category')\n",
        "\n",
        "# Confirm\n",
        "train.info()"
      ],
      "metadata": {
        "colab": {
          "base_uri": "https://localhost:8080/"
        },
        "id": "urIb5101gZwJ",
        "outputId": "cb789a16-3f8c-41ac-e39c-30ebd7a29dc6"
      },
      "execution_count": null,
      "outputs": [
        {
          "output_type": "stream",
          "name": "stdout",
          "text": [
            "<class 'pandas.core.frame.DataFrame'>\n",
            "RangeIndex: 9376 entries, 0 to 9375\n",
            "Data columns (total 15 columns):\n",
            " #   Column             Non-Null Count  Dtype         \n",
            "---  ------             --------------  -----         \n",
            " 0   claim_id           9376 non-null   object        \n",
            " 1   policy_number      9376 non-null   category      \n",
            " 2   claim_number       9376 non-null   category      \n",
            " 3   sum_insured        9376 non-null   float64       \n",
            " 4   product            9376 non-null   category      \n",
            " 5   agent              9376 non-null   category      \n",
            " 6   class_of_business  9376 non-null   category      \n",
            " 7   risk_type          9376 non-null   category      \n",
            " 8   loss_date          9376 non-null   datetime64[ns]\n",
            " 9   client_type        9376 non-null   category      \n",
            " 10  renewal_frequency  9376 non-null   category      \n",
            " 11  primary_cause      9376 non-null   category      \n",
            " 12  secondary_cause    9376 non-null   category      \n",
            " 13  branch             9376 non-null   category      \n",
            " 14  target             9376 non-null   float64       \n",
            "dtypes: category(11), datetime64[ns](1), float64(2), object(1)\n",
            "memory usage: 912.2+ KB\n"
          ]
        }
      ]
    },
    {
      "cell_type": "code",
      "metadata": {
        "id": "5nnRToniXGDK",
        "colab": {
          "base_uri": "https://localhost:8080/"
        },
        "outputId": "4c0571be-9dd3-485b-8c10-4381b2352ecd"
      },
      "source": [
        "# Ploting the univariate summaries and recording our observations\n",
        "#\n",
        "plt.figure(figsize = (14, 5))\n",
        "sns.boxplot(x = 'branch', y = 'sum_insured', data = train)\n",
        "plt.title('Branch Vs Suminsured boxplots')\n",
        "plt.show()"
      ],
      "execution_count": null,
      "outputs": [
        {
          "output_type": "display_data",
          "data": {
            "text/plain": [
              "<Figure size 1008x360 with 1 Axes>"
            ],
            "image/png": "[encoded data removed]"
          },
          "metadata": {}
        }
      ]
    },
    {
      "cell_type": "code",
      "source": [
        "# Branch countplot\n",
        "plt.figure(figsize = (14, 7))\n",
        "sns.countplot(x = 'branch', data = train)\n",
        "plt.title('Branch count plot')\n",
        "plt.show()"
      ],
      "metadata": {
        "colab": {
          "base_uri": "https://localhost:8080/"
        },
        "id": "1D_flZTcK6r9",
        "outputId": "fe0f3a6d-54ea-4c7a-e4ad-deb1170bd855"
      },
      "execution_count": null,
      "outputs": [
        {
          "output_type": "display_data",
          "data": {
            "text/plain": [
              "<Figure size 1008x504 with 1 Axes>"
            ],
            "image/png": "[encoded data removed]"
          },
          "metadata": {}
        }
      ]
    },
    {
      "cell_type": "code",
      "source": [
        ""
      ],
      "metadata": {
        "id": "bkDMuCqvLlop"
      },
      "execution_count": null,
      "outputs": []
    },
    {
      "cell_type": "code",
      "source": [
        "train.columns"
      ],
      "metadata": {
        "colab": {
          "base_uri": "https://localhost:8080/"
        },
        "id": "G9oN8fN_RHSq",
        "outputId": "3668b7dc-2ef3-45aa-e827-f567f017ceff"
      },
      "execution_count": null,
      "outputs": [
        {
          "output_type": "execute_result",
          "data": {
            "text/plain": [
              "Index(['claim_id', 'policy_number', 'claim_number', 'sum_insured', 'product',\n",
              "       'agent', 'class_of_business', 'risk_type', 'loss_date', 'client_type',\n",
              "       'renewal_frequency', 'primary_cause', 'secondary_cause', 'branch',\n",
              "       'target'],\n",
              "      dtype='object')"
            ]
          },
          "metadata": {},
          "execution_count": 91
        }
      ]
    },
    {
      "cell_type": "markdown",
      "source": [
        "## Feature Enginearing"
      ],
      "metadata": {
        "id": "f5UMZ5-YQwwv"
      }
    },
    {
      "cell_type": "code",
      "source": [
        "# Label Encoding our categorical variables\n",
        "from sklearn.preprocessing import LabelEncoder\n",
        "en = LabelEncoder()\n",
        "train[cat_cols] = train[cat_cols].apply(en.fit_transform)\n",
        "\n",
        "train.head()"
      ],
      "metadata": {
        "colab": {
          "base_uri": "https://localhost:8080/",
          "height": 357
        },
        "id": "kz8iNUQ5Q0oI",
        "outputId": "d93d3c6a-9524-40be-e372-e90fc24c9a31"
      },
      "execution_count": null,
      "outputs": [
        {
          "output_type": "execute_result",
          "data": {
            "text/plain": [
              "          claim_id  policy_number  claim_number  sum_insured  product  agent  \\\n",
              "0  ID_JZ7QWRHH57RO           3070          7439     300000.0       26      4   \n",
              "1  ID_KQ5TJMVLJ4EP           1126          3469      16000.0        4      7   \n",
              "2  ID_NYHI7WJGGIAE            630          2799       3000.0       28      1   \n",
              "3  ID_ROMMDCXYUXN5           2546          6448       6000.0        4      1   \n",
              "4  ID_2OTD9NX8L73D           1767          4832      26850.0       14      7   \n",
              "\n",
              "   class_of_business  risk_type  loss_date  client_type  renewal_frequency  \\\n",
              "0                 30          5 2021-05-13            2                  0   \n",
              "1                  9         31 2018-05-13            2                  0   \n",
              "2                  9         25 2018-08-18            2                  0   \n",
              "3                  8         31 2018-12-20            2                  0   \n",
              "4                 32         22 2018-11-07            0                  0   \n",
              "\n",
              "   primary_cause  secondary_cause  branch    target  \n",
              "0              6               20       5  82150.00  \n",
              "1              6               21       1   3780.24  \n",
              "2              6               22       1   2196.50  \n",
              "3              6               19       0    105.67  \n",
              "4              6               19       0   1605.64  "
            ],
            "text/html": [
              "\n",
              "  <div id=\"df-1a3b1b0b-f86f-49da-848d-a618c4a587d8\">\n",
              "    <div class=\"colab-df-container\">\n",
              "      <div>\n",
              "<style scoped>\n",
              "    .dataframe tbody tr th:only-of-type {\n",
              "        vertical-align: middle;\n",
              "    }\n",
              "\n",
              "    .dataframe tbody tr th {\n",
              "        vertical-align: top;\n",
              "    }\n",
              "\n",
              "    .dataframe thead th {\n",
              "        text-align: right;\n",
              "    }\n",
              "</style>\n",
              "<table border=\"1\" class=\"dataframe\">\n",
              "  <thead>\n",
              "    <tr style=\"text-align: right;\">\n",
              "      <th></th>\n",
              "      <th>claim_id</th>\n",
              "      <th>policy_number</th>\n",
              "      <th>claim_number</th>\n",
              "      <th>sum_insured</th>\n",
              "      <th>product</th>\n",
              "      <th>agent</th>\n",
              "      <th>class_of_business</th>\n",
              "      <th>risk_type</th>\n",
              "      <th>loss_date</th>\n",
              "      <th>client_type</th>\n",
              "      <th>renewal_frequency</th>\n",
              "      <th>primary_cause</th>\n",
              "      <th>secondary_cause</th>\n",
              "      <th>branch</th>\n",
              "      <th>target</th>\n",
              "    </tr>\n",
              "  </thead>\n",
              "  <tbody>\n",
              "    <tr>\n",
              "      <th>0</th>\n",
              "      <td>ID_JZ7QWRHH57RO</td>\n",
              "      <td>3070</td>\n",
              "      <td>7439</td>\n",
              "      <td>300000.0</td>\n",
              "      <td>26</td>\n",
              "      <td>4</td>\n",
              "      <td>30</td>\n",
              "      <td>5</td>\n",
              "      <td>2021-05-13</td>\n",
              "      <td>2</td>\n",
              "      <td>0</td>\n",
              "      <td>6</td>\n",
              "      <td>20</td>\n",
              "      <td>5</td>\n",
              "      <td>82150.00</td>\n",
              "    </tr>\n",
              "    <tr>\n",
              "      <th>1</th>\n",
              "      <td>ID_KQ5TJMVLJ4EP</td>\n",
              "      <td>1126</td>\n",
              "      <td>3469</td>\n",
              "      <td>16000.0</td>\n",
              "      <td>4</td>\n",
              "      <td>7</td>\n",
              "      <td>9</td>\n",
              "      <td>31</td>\n",
              "      <td>2018-05-13</td>\n",
              "      <td>2</td>\n",
              "      <td>0</td>\n",
              "      <td>6</td>\n",
              "      <td>21</td>\n",
              "      <td>1</td>\n",
              "      <td>3780.24</td>\n",
              "    </tr>\n",
              "    <tr>\n",
              "      <th>2</th>\n",
              "      <td>ID_NYHI7WJGGIAE</td>\n",
              "      <td>630</td>\n",
              "      <td>2799</td>\n",
              "      <td>3000.0</td>\n",
              "      <td>28</td>\n",
              "      <td>1</td>\n",
              "      <td>9</td>\n",
              "      <td>25</td>\n",
              "      <td>2018-08-18</td>\n",
              "      <td>2</td>\n",
              "      <td>0</td>\n",
              "      <td>6</td>\n",
              "      <td>22</td>\n",
              "      <td>1</td>\n",
              "      <td>2196.50</td>\n",
              "    </tr>\n",
              "    <tr>\n",
              "      <th>3</th>\n",
              "      <td>ID_ROMMDCXYUXN5</td>\n",
              "      <td>2546</td>\n",
              "      <td>6448</td>\n",
              "      <td>6000.0</td>\n",
              "      <td>4</td>\n",
              "      <td>1</td>\n",
              "      <td>8</td>\n",
              "      <td>31</td>\n",
              "      <td>2018-12-20</td>\n",
              "      <td>2</td>\n",
              "      <td>0</td>\n",
              "      <td>6</td>\n",
              "      <td>19</td>\n",
              "      <td>0</td>\n",
              "      <td>105.67</td>\n",
              "    </tr>\n",
              "    <tr>\n",
              "      <th>4</th>\n",
              "      <td>ID_2OTD9NX8L73D</td>\n",
              "      <td>1767</td>\n",
              "      <td>4832</td>\n",
              "      <td>26850.0</td>\n",
              "      <td>14</td>\n",
              "      <td>7</td>\n",
              "      <td>32</td>\n",
              "      <td>22</td>\n",
              "      <td>2018-11-07</td>\n",
              "      <td>0</td>\n",
              "      <td>0</td>\n",
              "      <td>6</td>\n",
              "      <td>19</td>\n",
              "      <td>0</td>\n",
              "      <td>1605.64</td>\n",
              "    </tr>\n",
              "  </tbody>\n",
              "</table>\n",
              "</div>\n",
              "      <button class=\"colab-df-convert\" onclick=\"convertToInteractive('df-1a3b1b0b-f86f-49da-848d-a618c4a587d8')\"\n",
              "              title=\"Convert this dataframe to an interactive table.\"\n",
              "              style=\"display:none;\">\n",
              "        \n",
              "  <svg xmlns=\"http://www.w3.org/2000/svg\" height=\"24px\"viewBox=\"0 0 24 24\"\n",
              "       width=\"24px\">\n",
              "    <path d=\"M0 0h24v24H0V0z\" fill=\"none\"/>\n",
              "    <path d=\"M18.56 5.44l.94 2.06.94-2.06 2.06-.94-2.06-.94-.94-2.06-.94 2.06-2.06.94zm-11 1L8.5 8.5l.94-2.06 2.06-.94-2.06-.94L8.5 2.5l-.94 2.06-2.06.94zm10 10l.94 2.06.94-2.06 2.06-.94-2.06-.94-.94-2.06-.94 2.06-2.06.94z\"/><path d=\"M17.41 7.96l-1.37-1.37c-.4-.4-.92-.59-1.43-.59-.52 0-1.04.2-1.43.59L10.3 9.45l-7.72 7.72c-.78.78-.78 2.05 0 2.83L4 21.41c.39.39.9.59 1.41.59.51 0 1.02-.2 1.41-.59l7.78-7.78 2.81-2.81c.8-.78.8-2.07 0-2.86zM5.41 20L4 18.59l7.72-7.72 1.47 1.35L5.41 20z\"/>\n",
              "  </svg>\n",
              "      </button>\n",
              "      \n",
              "  <style>\n",
              "    .colab-df-container {\n",
              "      display:flex;\n",
              "      flex-wrap:wrap;\n",
              "      gap: 12px;\n",
              "    }\n",
              "\n",
              "    .colab-df-convert {\n",
              "      background-color: #E8F0FE;\n",
              "      border: none;\n",
              "      border-radius: 50%;\n",
              "      cursor: pointer;\n",
              "      display: none;\n",
              "      fill: #1967D2;\n",
              "      height: 32px;\n",
              "      padding: 0 0 0 0;\n",
              "      width: 32px;\n",
              "    }\n",
              "\n",
              "    .colab-df-convert:hover {\n",
              "      background-color: #E2EBFA;\n",
              "      box-shadow: 0px 1px 2px rgba(60, 64, 67, 0.3), 0px 1px 3px 1px rgba(60, 64, 67, 0.15);\n",
              "      fill: #174EA6;\n",
              "    }\n",
              "\n",
              "    [theme=dark] .colab-df-convert {\n",
              "      background-color: #3B4455;\n",
              "      fill: #D2E3FC;\n",
              "    }\n",
              "\n",
              "    [theme=dark] .colab-df-convert:hover {\n",
              "      background-color: #434B5C;\n",
              "      box-shadow: 0px 1px 3px 1px rgba(0, 0, 0, 0.15);\n",
              "      filter: drop-shadow(0px 1px 2px rgba(0, 0, 0, 0.3));\n",
              "      fill: #FFFFFF;\n",
              "    }\n",
              "  </style>\n",
              "\n",
              "      <script>\n",
              "        const buttonEl =\n",
              "          document.querySelector('#df-1a3b1b0b-f86f-49da-848d-a618c4a587d8 button.colab-df-convert');\n",
              "        buttonEl.style.display =\n",
              "          google.colab.kernel.accessAllowed ? 'block' : 'none';\n",
              "\n",
              "        async function convertToInteractive(key) {\n",
              "          const element = document.querySelector('#df-1a3b1b0b-f86f-49da-848d-a618c4a587d8');\n",
              "          const dataTable =\n",
              "            await google.colab.kernel.invokeFunction('convertToInteractive',\n",
              "                                                     [key], {});\n",
              "          if (!dataTable) return;\n",
              "\n",
              "          const docLinkHtml = 'Like what you see? Visit the ' +\n",
              "            '<a target=\"_blank\" href=https://colab.research.google.com/notebooks/data_table.ipynb>data table notebook</a>'\n",
              "            + ' to learn more about interactive tables.';\n",
              "          element.innerHTML = '';\n",
              "          dataTable['output_type'] = 'display_data';\n",
              "          await google.colab.output.renderOutput(dataTable, element);\n",
              "          const docLink = document.createElement('div');\n",
              "          docLink.innerHTML = docLinkHtml;\n",
              "          element.appendChild(docLink);\n",
              "        }\n",
              "      </script>\n",
              "    </div>\n",
              "  </div>\n",
              "  "
            ]
          },
          "metadata": {},
          "execution_count": 92
        }
      ]
    },
    {
      "cell_type": "code",
      "source": [
        "# Splitting the loss date column to day, month and year\n",
        "# day\n",
        "train['loss_date_day'] = train.loss_date.dt.day\n",
        "\n",
        "# month\n",
        "train['loss_date_month'] = train.loss_date.dt.month\n",
        " \n",
        "# year\n",
        "train['loss_date_year'] = train.loss_date.dt.year\n",
        "\n",
        "train.drop('loss_date', axis = 1, inplace=True)"
      ],
      "metadata": {
        "id": "dWo3E1_mg18L"
      },
      "execution_count": null,
      "outputs": []
    },
    {
      "cell_type": "code",
      "source": [
        "# Feature Selection\n",
        "plt.rcParams['figure.figsize']=15,6 \n",
        "sns.set_style(\"darkgrid\")\n",
        "\n",
        "X = train.drop(['target', 'claim_id'], axis=1)\n",
        "y = train['target']\n",
        "\n",
        "from sklearn.ensemble import ExtraTreesRegressor\n",
        "\n",
        "model = ExtraTreesRegressor()\n",
        "model.fit(X, y)\n",
        "print(model.feature_importances_)\n",
        "feat_importances = pd.Series(model.feature_importances_, index=X.columns)\n",
        "feat_importances.nlargest(10).plot(kind='barh')\n",
        "plt.title('the most 10 important feature are')\n",
        "plt.show()"
      ],
      "metadata": {
        "colab": {
          "base_uri": "https://localhost:8080/",
          "height": 405
        },
        "id": "fWzGXgxvhB6B",
        "outputId": "2471d96c-2329-4377-c72b-b5ac29cb3334"
      },
      "execution_count": null,
      "outputs": [
        {
          "output_type": "stream",
          "name": "stdout",
          "text": [
            "[0.07209377 0.0968827  0.16216472 0.02148999 0.05009755 0.02509857\n",
            " 0.0311859  0.00453711 0.0579958  0.02635708 0.12816273 0.01417964\n",
            " 0.12334062 0.10471967 0.08169416]\n"
          ]
        },
        {
          "output_type": "display_data",
          "data": {
            "text/plain": [
              "<Figure size 1080x432 with 1 Axes>"
            ],
            "image/png": "[encoded data removed]"
          },
          "metadata": {}
        }
      ]
    },
    {
      "cell_type": "code",
      "source": [
        ""
      ],
      "metadata": {
        "id": "-iaTAhZ5UVRu"
      },
      "execution_count": null,
      "outputs": []
    },
    {
      "cell_type": "markdown",
      "metadata": {
        "id": "vTbdjSrhVIiT"
      },
      "source": [
        "## 7. Implementing the Solution"
      ]
    },
    {
      "cell_type": "code",
      "source": [
        "#Train test split\n",
        "feat_imp = train[['sum_insured', 'loss_date_day', 'secondary_cause', 'loss_date_month','claim_number','loss_date_year','policy_number','renewal_frequency','agent', 'primary_cause']]\n",
        "\n",
        "X = feat_imp\n",
        "y = train['target']\n",
        "\n",
        "# Split data into train and test sets\n",
        "X_train, X_test, y_train, y_test = train_test_split(X,y,test_size=0.3, random_state=23)"
      ],
      "metadata": {
        "id": "MWEXbAgPhitm"
      },
      "execution_count": null,
      "outputs": []
    },
    {
      "cell_type": "markdown",
      "source": [
        "Random Forest Regressor"
      ],
      "metadata": {
        "id": "XqDuxXkrh_g9"
      }
    },
    {
      "cell_type": "code",
      "source": [
        "from sklearn.ensemble import RandomForestRegressor\n",
        "from sklearn.model_selection import GridSearchCV\n",
        "from sklearn.ensemble import RandomForestRegressor\n",
        "from sklearn.metrics import mean_absolute_error\n",
        "forest = RandomForestRegressor()\n",
        "\n",
        "reg = RandomForestRegressor(max_depth=10,max_features='auto'\n",
        "        ,min_samples_leaf=1,min_samples_split=2,bootstrap=True,random_state=23)\n",
        "\n",
        "reg.fit(X_train, y_train)\n",
        "\n",
        "# Predicting \n",
        "y_pred = reg.predict(X_test)"
      ],
      "metadata": {
        "id": "XnXw6gAKh-Yl"
      },
      "execution_count": null,
      "outputs": []
    },
    {
      "cell_type": "code",
      "source": [
        "# Evaluating our model\n",
        "\n",
        "print(f'Linear Regression MAE score on the X_test is: {mean_absolute_error(y_test, y_pred)}')"
      ],
      "metadata": {
        "colab": {
          "base_uri": "https://localhost:8080/"
        },
        "id": "F7qGqLc4iYL9",
        "outputId": "4299c6cc-e7b0-4992-a6c1-e245fc8d87f5"
      },
      "execution_count": null,
      "outputs": [
        {
          "output_type": "stream",
          "name": "stdout",
          "text": [
            "Linear Regression MAE score on the X_test is: 45369.896926710586\n"
          ]
        }
      ]
    },
    {
      "cell_type": "markdown",
      "source": [
        "## Processing the test file"
      ],
      "metadata": {
        "id": "JfZq2n32ioTs"
      }
    },
    {
      "cell_type": "code",
      "source": [
        "# Splitting the loss date column to day, month and year\n",
        "# day\n",
        "test['loss_date_day'] = test.loss_date.dt.day\n",
        "\n",
        "# month\n",
        "test['loss_date_month'] = test.loss_date.dt.month\n",
        " \n",
        "# year\n",
        "test['loss_date_year'] = test.loss_date.dt.year\n",
        "\n",
        "test.drop('loss_date', axis = 1, inplace=True)"
      ],
      "metadata": {
        "id": "-UaR-kF1ifcj"
      },
      "execution_count": null,
      "outputs": []
    },
    {
      "cell_type": "code",
      "source": [
        "# Label Encoding \n",
        "test[cat_cols] = test[cat_cols].apply(en.fit_transform)\n",
        "\n",
        "test.head()"
      ],
      "metadata": {
        "colab": {
          "base_uri": "https://localhost:8080/",
          "height": 270
        },
        "id": "C-xJFrTsizYX",
        "outputId": "09151aa1-eac7-42d2-eaa3-1886dad1a4e7"
      },
      "execution_count": null,
      "outputs": [
        {
          "output_type": "execute_result",
          "data": {
            "text/plain": [
              "          claim_id  policy_number  claim_number  sum_insured  product  agent  \\\n",
              "0  ID_4RO0KZI9BBW2            739          1667     300000.0        4      4   \n",
              "1  ID_GTE9ZUJ9GZ97            312           883    2700000.0       12      3   \n",
              "2  ID_RUVIYRKWZ4RG            917          1895    4071352.0       10      0   \n",
              "3  ID_J81X8SWU6JYN           2081          3852          0.0        1      1   \n",
              "4  ID_94NM3JJAWWOQ            257           507    1607178.0       12      1   \n",
              "\n",
              "   class_of_business  risk_type  client_type  renewal_frequency  \\\n",
              "0                  8         29            2                  0   \n",
              "1                 28         20            0                  2   \n",
              "2                 14         14            0                  0   \n",
              "3                  1          1            0                  1   \n",
              "4                 28         20            0                  2   \n",
              "\n",
              "   primary_cause  secondary_cause  branch  loss_date_day  loss_date_month  \\\n",
              "0              6               26       3             11                3   \n",
              "1              6               20       1             25                6   \n",
              "2              9               43       0             14                3   \n",
              "3              1               10       4              4               12   \n",
              "4              6               20       1             18                9   \n",
              "\n",
              "   loss_date_year  \n",
              "0            2021  \n",
              "1            2020  \n",
              "2            2019  \n",
              "3            2018  \n",
              "4            2019  "
            ],
            "text/html": [
              "\n",
              "  <div id=\"df-ceab2f9a-4bd3-4376-a6f0-eb0b77cfe487\">\n",
              "    <div class=\"colab-df-container\">\n",
              "      <div>\n",
              "<style scoped>\n",
              "    .dataframe tbody tr th:only-of-type {\n",
              "        vertical-align: middle;\n",
              "    }\n",
              "\n",
              "    .dataframe tbody tr th {\n",
              "        vertical-align: top;\n",
              "    }\n",
              "\n",
              "    .dataframe thead th {\n",
              "        text-align: right;\n",
              "    }\n",
              "</style>\n",
              "<table border=\"1\" class=\"dataframe\">\n",
              "  <thead>\n",
              "    <tr style=\"text-align: right;\">\n",
              "      <th></th>\n",
              "      <th>claim_id</th>\n",
              "      <th>policy_number</th>\n",
              "      <th>claim_number</th>\n",
              "      <th>sum_insured</th>\n",
              "      <th>product</th>\n",
              "      <th>agent</th>\n",
              "      <th>class_of_business</th>\n",
              "      <th>risk_type</th>\n",
              "      <th>client_type</th>\n",
              "      <th>renewal_frequency</th>\n",
              "      <th>primary_cause</th>\n",
              "      <th>secondary_cause</th>\n",
              "      <th>branch</th>\n",
              "      <th>loss_date_day</th>\n",
              "      <th>loss_date_month</th>\n",
              "      <th>loss_date_year</th>\n",
              "    </tr>\n",
              "  </thead>\n",
              "  <tbody>\n",
              "    <tr>\n",
              "      <th>0</th>\n",
              "      <td>ID_4RO0KZI9BBW2</td>\n",
              "      <td>739</td>\n",
              "      <td>1667</td>\n",
              "      <td>300000.0</td>\n",
              "      <td>4</td>\n",
              "      <td>4</td>\n",
              "      <td>8</td>\n",
              "      <td>29</td>\n",
              "      <td>2</td>\n",
              "      <td>0</td>\n",
              "      <td>6</td>\n",
              "      <td>26</td>\n",
              "      <td>3</td>\n",
              "      <td>11</td>\n",
              "      <td>3</td>\n",
              "      <td>2021</td>\n",
              "    </tr>\n",
              "    <tr>\n",
              "      <th>1</th>\n",
              "      <td>ID_GTE9ZUJ9GZ97</td>\n",
              "      <td>312</td>\n",
              "      <td>883</td>\n",
              "      <td>2700000.0</td>\n",
              "      <td>12</td>\n",
              "      <td>3</td>\n",
              "      <td>28</td>\n",
              "      <td>20</td>\n",
              "      <td>0</td>\n",
              "      <td>2</td>\n",
              "      <td>6</td>\n",
              "      <td>20</td>\n",
              "      <td>1</td>\n",
              "      <td>25</td>\n",
              "      <td>6</td>\n",
              "      <td>2020</td>\n",
              "    </tr>\n",
              "    <tr>\n",
              "      <th>2</th>\n",
              "      <td>ID_RUVIYRKWZ4RG</td>\n",
              "      <td>917</td>\n",
              "      <td>1895</td>\n",
              "      <td>4071352.0</td>\n",
              "      <td>10</td>\n",
              "      <td>0</td>\n",
              "      <td>14</td>\n",
              "      <td>14</td>\n",
              "      <td>0</td>\n",
              "      <td>0</td>\n",
              "      <td>9</td>\n",
              "      <td>43</td>\n",
              "      <td>0</td>\n",
              "      <td>14</td>\n",
              "      <td>3</td>\n",
              "      <td>2019</td>\n",
              "    </tr>\n",
              "    <tr>\n",
              "      <th>3</th>\n",
              "      <td>ID_J81X8SWU6JYN</td>\n",
              "      <td>2081</td>\n",
              "      <td>3852</td>\n",
              "      <td>0.0</td>\n",
              "      <td>1</td>\n",
              "      <td>1</td>\n",
              "      <td>1</td>\n",
              "      <td>1</td>\n",
              "      <td>0</td>\n",
              "      <td>1</td>\n",
              "      <td>1</td>\n",
              "      <td>10</td>\n",
              "      <td>4</td>\n",
              "      <td>4</td>\n",
              "      <td>12</td>\n",
              "      <td>2018</td>\n",
              "    </tr>\n",
              "    <tr>\n",
              "      <th>4</th>\n",
              "      <td>ID_94NM3JJAWWOQ</td>\n",
              "      <td>257</td>\n",
              "      <td>507</td>\n",
              "      <td>1607178.0</td>\n",
              "      <td>12</td>\n",
              "      <td>1</td>\n",
              "      <td>28</td>\n",
              "      <td>20</td>\n",
              "      <td>0</td>\n",
              "      <td>2</td>\n",
              "      <td>6</td>\n",
              "      <td>20</td>\n",
              "      <td>1</td>\n",
              "      <td>18</td>\n",
              "      <td>9</td>\n",
              "      <td>2019</td>\n",
              "    </tr>\n",
              "  </tbody>\n",
              "</table>\n",
              "</div>\n",
              "      <button class=\"colab-df-convert\" onclick=\"convertToInteractive('df-ceab2f9a-4bd3-4376-a6f0-eb0b77cfe487')\"\n",
              "              title=\"Convert this dataframe to an interactive table.\"\n",
              "              style=\"display:none;\">\n",
              "        \n",
              "  <svg xmlns=\"http://www.w3.org/2000/svg\" height=\"24px\"viewBox=\"0 0 24 24\"\n",
              "       width=\"24px\">\n",
              "    <path d=\"M0 0h24v24H0V0z\" fill=\"none\"/>\n",
              "    <path d=\"M18.56 5.44l.94 2.06.94-2.06 2.06-.94-2.06-.94-.94-2.06-.94 2.06-2.06.94zm-11 1L8.5 8.5l.94-2.06 2.06-.94-2.06-.94L8.5 2.5l-.94 2.06-2.06.94zm10 10l.94 2.06.94-2.06 2.06-.94-2.06-.94-.94-2.06-.94 2.06-2.06.94z\"/><path d=\"M17.41 7.96l-1.37-1.37c-.4-.4-.92-.59-1.43-.59-.52 0-1.04.2-1.43.59L10.3 9.45l-7.72 7.72c-.78.78-.78 2.05 0 2.83L4 21.41c.39.39.9.59 1.41.59.51 0 1.02-.2 1.41-.59l7.78-7.78 2.81-2.81c.8-.78.8-2.07 0-2.86zM5.41 20L4 18.59l7.72-7.72 1.47 1.35L5.41 20z\"/>\n",
              "  </svg>\n",
              "      </button>\n",
              "      \n",
              "  <style>\n",
              "    .colab-df-container {\n",
              "      display:flex;\n",
              "      flex-wrap:wrap;\n",
              "      gap: 12px;\n",
              "    }\n",
              "\n",
              "    .colab-df-convert {\n",
              "      background-color: #E8F0FE;\n",
              "      border: none;\n",
              "      border-radius: 50%;\n",
              "      cursor: pointer;\n",
              "      display: none;\n",
              "      fill: #1967D2;\n",
              "      height: 32px;\n",
              "      padding: 0 0 0 0;\n",
              "      width: 32px;\n",
              "    }\n",
              "\n",
              "    .colab-df-convert:hover {\n",
              "      background-color: #E2EBFA;\n",
              "      box-shadow: 0px 1px 2px rgba(60, 64, 67, 0.3), 0px 1px 3px 1px rgba(60, 64, 67, 0.15);\n",
              "      fill: #174EA6;\n",
              "    }\n",
              "\n",
              "    [theme=dark] .colab-df-convert {\n",
              "      background-color: #3B4455;\n",
              "      fill: #D2E3FC;\n",
              "    }\n",
              "\n",
              "    [theme=dark] .colab-df-convert:hover {\n",
              "      background-color: #434B5C;\n",
              "      box-shadow: 0px 1px 3px 1px rgba(0, 0, 0, 0.15);\n",
              "      filter: drop-shadow(0px 1px 2px rgba(0, 0, 0, 0.3));\n",
              "      fill: #FFFFFF;\n",
              "    }\n",
              "  </style>\n",
              "\n",
              "      <script>\n",
              "        const buttonEl =\n",
              "          document.querySelector('#df-ceab2f9a-4bd3-4376-a6f0-eb0b77cfe487 button.colab-df-convert');\n",
              "        buttonEl.style.display =\n",
              "          google.colab.kernel.accessAllowed ? 'block' : 'none';\n",
              "\n",
              "        async function convertToInteractive(key) {\n",
              "          const element = document.querySelector('#df-ceab2f9a-4bd3-4376-a6f0-eb0b77cfe487');\n",
              "          const dataTable =\n",
              "            await google.colab.kernel.invokeFunction('convertToInteractive',\n",
              "                                                     [key], {});\n",
              "          if (!dataTable) return;\n",
              "\n",
              "          const docLinkHtml = 'Like what you see? Visit the ' +\n",
              "            '<a target=\"_blank\" href=https://colab.research.google.com/notebooks/data_table.ipynb>data table notebook</a>'\n",
              "            + ' to learn more about interactive tables.';\n",
              "          element.innerHTML = '';\n",
              "          dataTable['output_type'] = 'display_data';\n",
              "          await google.colab.output.renderOutput(dataTable, element);\n",
              "          const docLink = document.createElement('div');\n",
              "          docLink.innerHTML = docLinkHtml;\n",
              "          element.appendChild(docLink);\n",
              "        }\n",
              "      </script>\n",
              "    </div>\n",
              "  </div>\n",
              "  "
            ]
          },
          "metadata": {},
          "execution_count": 99
        }
      ]
    },
    {
      "cell_type": "code",
      "source": [
        "main_cols = ['sum_insured', 'loss_date_day', 'secondary_cause', 'loss_date_month','claim_number','loss_date_year','policy_number','renewal_frequency','agent', 'primary_cause']\n",
        "# Make prediction on the test set\n",
        "test = test[main_cols]\n",
        "predictions = reg.predict(test)\n",
        "\n",
        "\n",
        "\n",
        "# # Create a submission file\n",
        "sub_file = sample_sub.copy()\n",
        "sub_file.target = predictions\n",
        "\n"
      ],
      "metadata": {
        "id": "tyrKNpOmi8Wv"
      },
      "execution_count": null,
      "outputs": []
    },
    {
      "cell_type": "code",
      "source": [
        "sub_file.to_csv('submission.csv', index=False)"
      ],
      "metadata": {
        "id": "CU4kEH0ekKO-"
      },
      "execution_count": null,
      "outputs": []
    },
    {
      "cell_type": "code",
      "source": [
        "sub_file.head()"
      ],
      "metadata": {
        "colab": {
          "base_uri": "https://localhost:8080/",
          "height": 206
        },
        "id": "pFb_2pJUjMEU",
        "outputId": "1781299f-7555-49cc-ef58-9aa8021dbdba"
      },
      "execution_count": null,
      "outputs": [
        {
          "output_type": "execute_result",
          "data": {
            "text/plain": [
              "          claim_id         target\n",
              "0  ID_4RO0KZI9BBW2  129736.776856\n",
              "1  ID_GTE9ZUJ9GZ97  128791.852124\n",
              "2  ID_RUVIYRKWZ4RG  142956.588308\n",
              "3  ID_J81X8SWU6JYN     575.345396\n",
              "4  ID_94NM3JJAWWOQ   23576.489025"
            ],
            "text/html": [
              "\n",
              "  <div id=\"df-7effd6f6-087f-44a8-aad6-79d2177b1218\">\n",
              "    <div class=\"colab-df-container\">\n",
              "      <div>\n",
              "<style scoped>\n",
              "    .dataframe tbody tr th:only-of-type {\n",
              "        vertical-align: middle;\n",
              "    }\n",
              "\n",
              "    .dataframe tbody tr th {\n",
              "        vertical-align: top;\n",
              "    }\n",
              "\n",
              "    .dataframe thead th {\n",
              "        text-align: right;\n",
              "    }\n",
              "</style>\n",
              "<table border=\"1\" class=\"dataframe\">\n",
              "  <thead>\n",
              "    <tr style=\"text-align: right;\">\n",
              "      <th></th>\n",
              "      <th>claim_id</th>\n",
              "      <th>target</th>\n",
              "    </tr>\n",
              "  </thead>\n",
              "  <tbody>\n",
              "    <tr>\n",
              "      <th>0</th>\n",
              "      <td>ID_4RO0KZI9BBW2</td>\n",
              "      <td>129736.776856</td>\n",
              "    </tr>\n",
              "    <tr>\n",
              "      <th>1</th>\n",
              "      <td>ID_GTE9ZUJ9GZ97</td>\n",
              "      <td>128791.852124</td>\n",
              "    </tr>\n",
              "    <tr>\n",
              "      <th>2</th>\n",
              "      <td>ID_RUVIYRKWZ4RG</td>\n",
              "      <td>142956.588308</td>\n",
              "    </tr>\n",
              "    <tr>\n",
              "      <th>3</th>\n",
              "      <td>ID_J81X8SWU6JYN</td>\n",
              "      <td>575.345396</td>\n",
              "    </tr>\n",
              "    <tr>\n",
              "      <th>4</th>\n",
              "      <td>ID_94NM3JJAWWOQ</td>\n",
              "      <td>23576.489025</td>\n",
              "    </tr>\n",
              "  </tbody>\n",
              "</table>\n",
              "</div>\n",
              "      <button class=\"colab-df-convert\" onclick=\"convertToInteractive('df-7effd6f6-087f-44a8-aad6-79d2177b1218')\"\n",
              "              title=\"Convert this dataframe to an interactive table.\"\n",
              "              style=\"display:none;\">\n",
              "        \n",
              "  <svg xmlns=\"http://www.w3.org/2000/svg\" height=\"24px\"viewBox=\"0 0 24 24\"\n",
              "       width=\"24px\">\n",
              "    <path d=\"M0 0h24v24H0V0z\" fill=\"none\"/>\n",
              "    <path d=\"M18.56 5.44l.94 2.06.94-2.06 2.06-.94-2.06-.94-.94-2.06-.94 2.06-2.06.94zm-11 1L8.5 8.5l.94-2.06 2.06-.94-2.06-.94L8.5 2.5l-.94 2.06-2.06.94zm10 10l.94 2.06.94-2.06 2.06-.94-2.06-.94-.94-2.06-.94 2.06-2.06.94z\"/><path d=\"M17.41 7.96l-1.37-1.37c-.4-.4-.92-.59-1.43-.59-.52 0-1.04.2-1.43.59L10.3 9.45l-7.72 7.72c-.78.78-.78 2.05 0 2.83L4 21.41c.39.39.9.59 1.41.59.51 0 1.02-.2 1.41-.59l7.78-7.78 2.81-2.81c.8-.78.8-2.07 0-2.86zM5.41 20L4 18.59l7.72-7.72 1.47 1.35L5.41 20z\"/>\n",
              "  </svg>\n",
              "      </button>\n",
              "      \n",
              "  <style>\n",
              "    .colab-df-container {\n",
              "      display:flex;\n",
              "      flex-wrap:wrap;\n",
              "      gap: 12px;\n",
              "    }\n",
              "\n",
              "    .colab-df-convert {\n",
              "      background-color: #E8F0FE;\n",
              "      border: none;\n",
              "      border-radius: 50%;\n",
              "      cursor: pointer;\n",
              "      display: none;\n",
              "      fill: #1967D2;\n",
              "      height: 32px;\n",
              "      padding: 0 0 0 0;\n",
              "      width: 32px;\n",
              "    }\n",
              "\n",
              "    .colab-df-convert:hover {\n",
              "      background-color: #E2EBFA;\n",
              "      box-shadow: 0px 1px 2px rgba(60, 64, 67, 0.3), 0px 1px 3px 1px rgba(60, 64, 67, 0.15);\n",
              "      fill: #174EA6;\n",
              "    }\n",
              "\n",
              "    [theme=dark] .colab-df-convert {\n",
              "      background-color: #3B4455;\n",
              "      fill: #D2E3FC;\n",
              "    }\n",
              "\n",
              "    [theme=dark] .colab-df-convert:hover {\n",
              "      background-color: #434B5C;\n",
              "      box-shadow: 0px 1px 3px 1px rgba(0, 0, 0, 0.15);\n",
              "      filter: drop-shadow(0px 1px 2px rgba(0, 0, 0, 0.3));\n",
              "      fill: #FFFFFF;\n",
              "    }\n",
              "  </style>\n",
              "\n",
              "      <script>\n",
              "        const buttonEl =\n",
              "          document.querySelector('#df-7effd6f6-087f-44a8-aad6-79d2177b1218 button.colab-df-convert');\n",
              "        buttonEl.style.display =\n",
              "          google.colab.kernel.accessAllowed ? 'block' : 'none';\n",
              "\n",
              "        async function convertToInteractive(key) {\n",
              "          const element = document.querySelector('#df-7effd6f6-087f-44a8-aad6-79d2177b1218');\n",
              "          const dataTable =\n",
              "            await google.colab.kernel.invokeFunction('convertToInteractive',\n",
              "                                                     [key], {});\n",
              "          if (!dataTable) return;\n",
              "\n",
              "          const docLinkHtml = 'Like what you see? Visit the ' +\n",
              "            '<a target=\"_blank\" href=https://colab.research.google.com/notebooks/data_table.ipynb>data table notebook</a>'\n",
              "            + ' to learn more about interactive tables.';\n",
              "          element.innerHTML = '';\n",
              "          dataTable['output_type'] = 'display_data';\n",
              "          await google.colab.output.renderOutput(dataTable, element);\n",
              "          const docLink = document.createElement('div');\n",
              "          docLink.innerHTML = docLinkHtml;\n",
              "          element.appendChild(docLink);\n",
              "        }\n",
              "      </script>\n",
              "    </div>\n",
              "  </div>\n",
              "  "
            ]
          },
          "metadata": {},
          "execution_count": 102
        }
      ]
    },
    {
      "cell_type": "markdown",
      "source": [
        "## MLP Regressor"
      ],
      "metadata": {
        "id": "b4B7TM9woGYm"
      }
    },
    {
      "cell_type": "code",
      "source": [
        "##Import Neural Network model\n",
        "#from sklearn.neural_network import MLPRegressor\n",
        "#Using the classifier along with grid search:\n",
        "#mlp=MLPRegressor()\n",
        "#Optimaztion \n",
        "#param_grid = {'hidden_layer_sizes': [(50,50,50), (50,100,50), (100,1), (50,50), (10,10)],\n",
        "#          'activation': ['relu','tanh','logistic', 'identity'],\n",
        "#          'alpha': [0.0001, 0.05],\n",
        "#          'learning_rate': ['constant','adaptive'],\n",
        "#         'solver': ['adam', 'sgd', 'lbfgs']}\n",
        "        \n",
        "       \n",
        "#Creating grid search using 5-fold cross validation:\n",
        "#clf = GridSearchCV(mlp, param_grid = param_grid, cv= 5, verbose = 0, scoring = 'neg_mean_squared_error' )\n",
        "\n",
        "#Fitting the grid search:\n",
        "#clf.fit(X_train, y_train)\n",
        "\n",
        "#Get best parameter\n",
        "#clf.best_params_"
      ],
      "metadata": {
        "id": "qjxfqOO4Jsbk"
      },
      "execution_count": null,
      "outputs": []
    },
    {
      "cell_type": "code",
      "source": [
        "from sklearn.neural_network import MLPRegressor\n",
        "#Using the classifier along with grid search:\n",
        "mlp=MLPRegressor(hidden_layer_sizes=(20,20,20),activation='relu',alpha=0.0001,learning_rate='constant',solver='lbfgs',random_state=23)\n",
        "#Fit model \n",
        "mlp.fit(X_train,y_train)\n",
        "#Prediting with trained model\n",
        "y_pred = mlp.predict(X_test)"
      ],
      "metadata": {
        "id": "AcXHbcTHoKDv"
      },
      "execution_count": null,
      "outputs": []
    },
    {
      "cell_type": "code",
      "source": [
        "# Evaluating our model\n",
        "\n",
        "print(f'MLPRegressor MAE score on the X_test is: {mean_absolute_error(y_test, y_pred)}')"
      ],
      "metadata": {
        "id": "2ojye08doMoD",
        "colab": {
          "base_uri": "https://localhost:8080/"
        },
        "outputId": "c954aec6-ea10-4f89-e4f6-7accbd8bcb51"
      },
      "execution_count": null,
      "outputs": [
        {
          "output_type": "stream",
          "name": "stdout",
          "text": [
            "MLPRegressor MAE score on the X_test is: 42076.06673366995\n"
          ]
        }
      ]
    },
    {
      "cell_type": "code",
      "source": [
        "main_cols = ['sum_insured', 'loss_date_day', 'secondary_cause', 'loss_date_month','claim_number','loss_date_year','policy_number','renewal_frequency','agent', 'primary_cause']\n",
        "# Make prediction on the test set\n",
        "test = test[main_cols]\n",
        "predictions = mlp.predict(test)\n",
        "\n",
        "# # Create a submission file\n",
        "sub_file = sample_sub.copy()\n",
        "sub_file.target = predictions"
      ],
      "metadata": {
        "id": "hQ32mKhvoRzu"
      },
      "execution_count": null,
      "outputs": []
    },
    {
      "cell_type": "code",
      "source": [
        "sub_file.to_csv('submission1.csv', index=False)"
      ],
      "metadata": {
        "id": "-cgl9Sriogdi"
      },
      "execution_count": null,
      "outputs": []
    },
    {
      "cell_type": "markdown",
      "source": [
        "## Neural Networks"
      ],
      "metadata": {
        "id": "-xzk-VUalzf2"
      }
    },
    {
      "cell_type": "code",
      "source": [
        "#Train test split\n",
        "feat_imp = train[['sum_insured', 'loss_date_day', 'secondary_cause', 'loss_date_month','claim_number','loss_date_year','policy_number','renewal_frequency','agent', 'primary_cause']]\n",
        "\n",
        "X = feat_imp\n",
        "#X = train.drop(['target', 'claim_id'], axis=1)\n",
        "y = train['target']\n",
        "\n",
        "# Split data into train and test sets\n",
        "X_train, X_test, y_train, y_test = train_test_split(X,y,test_size=0.3, random_state=23)"
      ],
      "metadata": {
        "id": "fPKN3vWvtM_B"
      },
      "execution_count": null,
      "outputs": []
    },
    {
      "cell_type": "code",
      "source": [
        "import tensorflow as tf\n",
        "print(tf.__version__)\n",
        "import numpy as np\n",
        "import matplotlib.pyplot as plt\n",
        "import tensorflow as tf\n",
        "from tensorflow.keras import Sequential\n",
        "from tensorflow.keras.layers import Dense\n",
        "from tensorflow.keras.optimizers import Adam\n",
        "from tensorflow.keras import backend as K"
      ],
      "metadata": {
        "id": "wsWtShWRlyX7",
        "colab": {
          "base_uri": "https://localhost:8080/"
        },
        "outputId": "4a489b38-c359-4982-ec0b-0196d1e883d2"
      },
      "execution_count": null,
      "outputs": [
        {
          "output_type": "stream",
          "name": "stdout",
          "text": [
            "2.8.0\n"
          ]
        }
      ]
    },
    {
      "cell_type": "code",
      "source": [
        "# Import the GridSearchCV class\n",
        "#from sklearn.model_selection import GridSearchCV\n",
        "#from tensorflow.keras.optimizers import RMSprop\n",
        "\n",
        "# 1. Define the model's architecture\n",
        "#model = Sequential()\n",
        "# find the number of input features\n",
        "#n_features = X.shape[1]\n",
        "#model.add(Dense(10, activation='relu', input_shape=(n_features,)))\n",
        "#model.add(Dense(8, activation='relu'))\n",
        "#model.add(Dense(1))\n",
        "#optimizer = RMSprop(0.1)    # 0.1 is the learning rate\n",
        "#model.compile(loss='mae',optimizer=optimizer)    # compile the model\n",
        "\n",
        "# 2. Define the hyperparameters grid to be validated\n",
        "#batch_size = [10, 20, 40, 60, 80, 100]\n",
        "#epochs = [10, 50, 100]\n",
        "#param_grid = dict(batch_size=batch_size, epochs=epochs)\n",
        "#grid = GridSearchCV(estimator=model, param_grid=param_grid, scoring='mae', n_jobs=-1)\n",
        "\n",
        "# 3. Run the GridSearchCV process\n",
        "#grid_result = grid.fit(X_train, y_train)\n",
        "\n",
        "# 4. Print the results of the best model\n",
        "#print(\"Best: %f using %s\" % (grid_result.best_score_, grid_result.best_params_))"
      ],
      "metadata": {
        "id": "VNkbEb57Yd73"
      },
      "execution_count": null,
      "outputs": []
    },
    {
      "cell_type": "code",
      "source": [
        "tf.random.set_seed(42)\n",
        "\n",
        "model =Sequential([\n",
        "    Dense(256, activation='relu'),\n",
        "    Dense(256, activation='relu'),\n",
        "    Dense(128, activation='relu'),\n",
        "    Dense(1)\n",
        "])\n",
        "\n",
        "model.compile(\n",
        "    loss='mae',\n",
        "    optimizer=Adam(),\n",
        "    metrics=['mae']\n",
        ")\n",
        "\n",
        "model.fit(X_train, y_train, epochs=100)"
      ],
      "metadata": {
        "id": "PYlxarOds-4g",
        "colab": {
          "base_uri": "https://localhost:8080/"
        },
        "outputId": "9203266e-7924-4dbb-ae0f-dc5aa86b18fa"
      },
      "execution_count": null,
      "outputs": [
        {
          "output_type": "stream",
          "name": "stdout",
          "text": [
            "Epoch 1/50\n",
            "206/206 [==============================] - 1s 3ms/step - loss: 228540.5312 - mae: 228540.5312\n",
            "Epoch 2/50\n",
            "206/206 [==============================] - 1s 3ms/step - loss: 113027.7734 - mae: 113027.7734\n",
            "Epoch 3/50\n",
            "206/206 [==============================] - 1s 5ms/step - loss: 56258.8711 - mae: 56258.8711\n",
            "Epoch 4/50\n",
            "206/206 [==============================] - 1s 5ms/step - loss: 56100.2773 - mae: 56100.2773\n",
            "Epoch 5/50\n",
            "206/206 [==============================] - 1s 5ms/step - loss: 55525.5430 - mae: 55525.5430\n",
            "Epoch 6/50\n",
            "206/206 [==============================] - 1s 5ms/step - loss: 45617.4570 - mae: 45617.4570\n",
            "Epoch 7/50\n",
            "206/206 [==============================] - 1s 5ms/step - loss: 44283.4219 - mae: 44283.4219\n",
            "Epoch 8/50\n",
            "206/206 [==============================] - 1s 5ms/step - loss: 41689.1914 - mae: 41689.1914\n",
            "Epoch 9/50\n",
            "206/206 [==============================] - 1s 5ms/step - loss: 43434.9883 - mae: 43434.9883\n",
            "Epoch 10/50\n",
            "206/206 [==============================] - 1s 6ms/step - loss: 41662.6680 - mae: 41662.6680\n",
            "Epoch 11/50\n",
            "206/206 [==============================] - 1s 5ms/step - loss: 41470.5312 - mae: 41470.5312\n",
            "Epoch 12/50\n",
            "206/206 [==============================] - 1s 5ms/step - loss: 41543.7422 - mae: 41543.7422\n",
            "Epoch 13/50\n",
            "206/206 [==============================] - 1s 5ms/step - loss: 41506.2852 - mae: 41506.2852\n",
            "Epoch 14/50\n",
            "206/206 [==============================] - 1s 4ms/step - loss: 41368.3984 - mae: 41368.3984\n",
            "Epoch 15/50\n",
            "206/206 [==============================] - 1s 7ms/step - loss: 41719.7695 - mae: 41719.7695\n",
            "Epoch 16/50\n",
            "206/206 [==============================] - 1s 3ms/step - loss: 41585.5547 - mae: 41585.5547\n",
            "Epoch 17/50\n",
            "206/206 [==============================] - 1s 3ms/step - loss: 41565.8164 - mae: 41565.8164\n",
            "Epoch 18/50\n",
            "206/206 [==============================] - 1s 3ms/step - loss: 41532.1172 - mae: 41532.1172\n",
            "Epoch 19/50\n",
            "206/206 [==============================] - 1s 3ms/step - loss: 41492.1602 - mae: 41492.1602\n",
            "Epoch 20/50\n",
            "206/206 [==============================] - 1s 3ms/step - loss: 41424.6172 - mae: 41424.6172\n",
            "Epoch 21/50\n",
            "206/206 [==============================] - 1s 3ms/step - loss: 41344.0625 - mae: 41344.0625\n",
            "Epoch 22/50\n",
            "206/206 [==============================] - 1s 3ms/step - loss: 41365.5352 - mae: 41365.5352\n",
            "Epoch 23/50\n",
            "206/206 [==============================] - 1s 3ms/step - loss: 41437.9648 - mae: 41437.9648\n",
            "Epoch 24/50\n",
            "206/206 [==============================] - 1s 3ms/step - loss: 41394.3047 - mae: 41394.3047\n",
            "Epoch 25/50\n",
            "206/206 [==============================] - 1s 3ms/step - loss: 41383.5273 - mae: 41383.5273\n",
            "Epoch 26/50\n",
            "206/206 [==============================] - 1s 3ms/step - loss: 41273.4844 - mae: 41273.4844\n",
            "Epoch 27/50\n",
            "206/206 [==============================] - 1s 3ms/step - loss: 41216.6875 - mae: 41216.6875\n",
            "Epoch 28/50\n",
            "206/206 [==============================] - 1s 3ms/step - loss: 41334.3672 - mae: 41334.3672\n",
            "Epoch 29/50\n",
            "206/206 [==============================] - 1s 3ms/step - loss: 41301.5117 - mae: 41301.5117\n",
            "Epoch 30/50\n",
            "206/206 [==============================] - 1s 3ms/step - loss: 41206.2812 - mae: 41206.2812\n",
            "Epoch 31/50\n",
            "206/206 [==============================] - 1s 3ms/step - loss: 55620.2227 - mae: 55620.2227\n",
            "Epoch 32/50\n",
            "206/206 [==============================] - 1s 3ms/step - loss: 41735.8789 - mae: 41735.8789\n",
            "Epoch 33/50\n",
            "206/206 [==============================] - 1s 3ms/step - loss: 41429.7383 - mae: 41429.7383\n",
            "Epoch 34/50\n",
            "206/206 [==============================] - 1s 3ms/step - loss: 41375.3945 - mae: 41375.3945\n",
            "Epoch 35/50\n",
            "206/206 [==============================] - 1s 3ms/step - loss: 41293.5859 - mae: 41293.5859\n",
            "Epoch 36/50\n",
            "206/206 [==============================] - 1s 3ms/step - loss: 41177.1445 - mae: 41177.1445\n",
            "Epoch 37/50\n",
            "206/206 [==============================] - 1s 3ms/step - loss: 41201.4648 - mae: 41201.4648\n",
            "Epoch 38/50\n",
            "206/206 [==============================] - 1s 3ms/step - loss: 95155.1562 - mae: 95155.1562\n",
            "Epoch 39/50\n",
            "206/206 [==============================] - 1s 3ms/step - loss: 110609.8672 - mae: 110609.8672\n",
            "Epoch 40/50\n",
            "206/206 [==============================] - 1s 3ms/step - loss: 51119.7891 - mae: 51119.7891\n",
            "Epoch 41/50\n",
            "206/206 [==============================] - 1s 3ms/step - loss: 45126.1367 - mae: 45126.1367\n",
            "Epoch 42/50\n",
            "206/206 [==============================] - 1s 3ms/step - loss: 42473.0547 - mae: 42473.0547\n",
            "Epoch 43/50\n",
            "206/206 [==============================] - 1s 3ms/step - loss: 44209.6367 - mae: 44209.6367\n",
            "Epoch 44/50\n",
            "206/206 [==============================] - 1s 3ms/step - loss: 41575.9102 - mae: 41575.9102\n",
            "Epoch 45/50\n",
            "206/206 [==============================] - 1s 3ms/step - loss: 41138.3320 - mae: 41138.3320\n",
            "Epoch 46/50\n",
            "206/206 [==============================] - 1s 3ms/step - loss: 43563.4531 - mae: 43563.4531\n",
            "Epoch 47/50\n",
            "206/206 [==============================] - 1s 3ms/step - loss: 41227.7930 - mae: 41227.7930\n",
            "Epoch 48/50\n",
            "206/206 [==============================] - 1s 3ms/step - loss: 41096.1680 - mae: 41096.1680\n",
            "Epoch 49/50\n",
            "206/206 [==============================] - 1s 3ms/step - loss: 41147.5859 - mae: 41147.5859\n",
            "Epoch 50/50\n",
            "206/206 [==============================] - 1s 3ms/step - loss: 41326.4805 - mae: 41326.4805\n"
          ]
        },
        {
          "output_type": "execute_result",
          "data": {
            "text/plain": [
              "<keras.callbacks.History at 0x7f43a46f5f50>"
            ]
          },
          "metadata": {},
          "execution_count": 117
        }
      ]
    },
    {
      "cell_type": "code",
      "source": [
        "preds = model.predict(X_test)\n",
        "\n",
        "# Evaluating our model\n",
        "\n",
        "print(f'Neural net regressor MAE score on the X_test is: {mean_absolute_error(y_test, preds)}')"
      ],
      "metadata": {
        "id": "73JmA59qtjoc",
        "colab": {
          "base_uri": "https://localhost:8080/"
        },
        "outputId": "358df5d2-aaae-43b7-c431-6192910d83f4"
      },
      "execution_count": null,
      "outputs": [
        {
          "output_type": "stream",
          "name": "stdout",
          "text": [
            "Neural net regressor MAE score on the X_test is: 40013.032925865424\n"
          ]
        }
      ]
    },
    {
      "cell_type": "code",
      "source": [
        "main_cols = ['sum_insured', 'loss_date_day', 'secondary_cause', 'loss_date_month','claim_number','loss_date_year','policy_number','renewal_frequency','agent', 'primary_cause']\n",
        "# Make prediction on the test set\n",
        "test = test[main_cols]\n",
        "predictions = model.predict(test)\n",
        "\n",
        "# # Create a submission file\n",
        "sub_file = sample_sub.copy()\n",
        "sub_file.target = predictions"
      ],
      "metadata": {
        "id": "ZxLQxVi3VIkZ"
      },
      "execution_count": null,
      "outputs": []
    },
    {
      "cell_type": "code",
      "source": [
        "sub_file.to_csv('submission1.csv', index=False)"
      ],
      "metadata": {
        "id": "Pz8R8SaIVOwY"
      },
      "execution_count": null,
      "outputs": []
    },
    {
      "cell_type": "markdown",
      "source": [
        "## XGoost"
      ],
      "metadata": {
        "id": "Z5DmXP6eFSY0"
      }
    },
    {
      "cell_type": "code",
      "source": [
        "#IMport XGboost model \n",
        "from xgboost import XGBRegressor\n",
        "\n",
        "my_model = XGBRegressor()\n",
        "#Fit model \n",
        "my_model.fit(X_train, y_train, verbose=False)\n",
        "\n",
        "#Predict using trained model \n",
        "y_pred = my_model.predict(X_test)"
      ],
      "metadata": {
        "id": "ccXjG1G_FSDw",
        "colab": {
          "base_uri": "https://localhost:8080/"
        },
        "outputId": "c03c0498-36d8-4f4e-9679-9890e936143e"
      },
      "execution_count": null,
      "outputs": [
        {
          "output_type": "stream",
          "name": "stdout",
          "text": [
            "[12:20:09] WARNING: /workspace/src/objective/regression_obj.cu:152: reg:linear is now deprecated in favor of reg:squarederror.\n"
          ]
        }
      ]
    },
    {
      "cell_type": "code",
      "source": [
        "# Evaluating our model\n",
        "\n",
        "print(f'XG Boost  MAE score on the X_test is: {mean_absolute_error(y_test, y_pred)}')"
      ],
      "metadata": {
        "id": "8fbEacV_FyFi",
        "colab": {
          "base_uri": "https://localhost:8080/"
        },
        "outputId": "b40c7bb4-ee40-4f76-8a48-1fe613978676"
      },
      "execution_count": null,
      "outputs": [
        {
          "output_type": "stream",
          "name": "stdout",
          "text": [
            "XG Boost  MAE score on the X_test is: 47367.087709734085\n"
          ]
        }
      ]
    },
    {
      "cell_type": "markdown",
      "source": [
        "## LGBM"
      ],
      "metadata": {
        "id": "VN6oTBBIIqZK"
      }
    },
    {
      "cell_type": "code",
      "source": [
        "import lightgbm as lgb\n",
        "# we use this params to create a new LGBM Regressor\n",
        "model = lgb.LGBMRegressor(random_state=23)\n",
        "#Fit model \n",
        "model.fit(X_train, y_train, verbose=False)\n",
        "\n",
        "#Predict using trained model \n",
        "y_preds = my_model.predict(X_test)"
      ],
      "metadata": {
        "id": "nt_ibbBxGMTp"
      },
      "execution_count": null,
      "outputs": []
    },
    {
      "cell_type": "code",
      "source": [
        "# Evaluating our model\n",
        "\n",
        "print(f'LGBM MAE score on the X_test is: {mean_absolute_error(y_test, y_preds)}')"
      ],
      "metadata": {
        "id": "7LdUX_i0JFSy",
        "colab": {
          "base_uri": "https://localhost:8080/"
        },
        "outputId": "2b887c9c-604a-4b00-8fde-7fda7f6623af"
      },
      "execution_count": null,
      "outputs": [
        {
          "output_type": "stream",
          "name": "stdout",
          "text": [
            "LGBM MAE score on the X_test is: 47367.087709734085\n"
          ]
        }
      ]
    },
    {
      "cell_type": "markdown",
      "source": [
        "## CATBOOST"
      ],
      "metadata": {
        "id": "7oRyKWa-hoZG"
      }
    },
    {
      "cell_type": "code",
      "source": [
        "# importing the catboost regressor\n",
        "\n",
        "from catboost import CatBoostRegressor\n",
        "\n",
        "cat = CatBoostRegressor(random_state=42, verbose=0)\n",
        "cat.fit(X_train, y_train)\n",
        "\n",
        "# Predict based on the model we've trained\n",
        "y_pred = cat.predict(X_test)"
      ],
      "metadata": {
        "id": "HeRgqAiPhnP3"
      },
      "execution_count": null,
      "outputs": []
    },
    {
      "cell_type": "code",
      "source": [
        "# Evaluating our model\n",
        "\n",
        "print(f'LGBM MAE score on the X_test is: {mean_absolute_error(y_test, y_preds)}')"
      ],
      "metadata": {
        "id": "rt_Zl8nZhrOY"
      },
      "execution_count": null,
      "outputs": []
    },
    {
      "cell_type": "markdown",
      "metadata": {
        "id": "lQ2G4ZPDVOXE"
      },
      "source": [
        "## 8. Challenging the solution"
      ]
    },
    {
      "cell_type": "markdown",
      "metadata": {
        "id": "jWVGKGuiYMWg"
      },
      "source": [
        "> The easy solution is nice because it is, well, easy, but you should never allow those results to hold the day. You should always be thinking of ways to challenge the results, especially if those results comport with your prior expectation.\n",
        "\n",
        "\n",
        "\n",
        "\n"
      ]
    },
    {
      "cell_type": "code",
      "metadata": {
        "id": "j3x3SXZ4XT_L"
      },
      "source": [
        "# Reviewing the Solution \n",
        "#"
      ],
      "execution_count": null,
      "outputs": []
    }
  ]
}